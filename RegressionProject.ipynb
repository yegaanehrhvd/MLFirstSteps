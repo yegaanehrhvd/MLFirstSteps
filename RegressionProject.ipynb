{
 "cells": [
  {
   "cell_type": "code",
   "execution_count": 39,
   "id": "ffe4c499-619f-44da-b63a-a7856153630e",
   "metadata": {},
   "outputs": [],
   "source": [
    "import matplotlib.pyplot as plt\n",
    "import pandas as pd\n",
    "import numpy as np\n",
    "import pylab as pb\n",
    "from sklearn.linear_model import LinearRegression\n",
    "from sklearn.model_selection import train_test_split\n",
    "from sklearn.preprocessing import LabelEncoder \n",
    "from sklearn.metrics import mean_squared_error "
   ]
  },
  {
   "cell_type": "code",
   "execution_count": 40,
   "id": "a5f1179d-e297-455a-b356-a832038f5947",
   "metadata": {},
   "outputs": [
    {
     "data": {
      "text/html": [
       "<div>\n",
       "<style scoped>\n",
       "    .dataframe tbody tr th:only-of-type {\n",
       "        vertical-align: middle;\n",
       "    }\n",
       "\n",
       "    .dataframe tbody tr th {\n",
       "        vertical-align: top;\n",
       "    }\n",
       "\n",
       "    .dataframe thead th {\n",
       "        text-align: right;\n",
       "    }\n",
       "</style>\n",
       "<table border=\"1\" class=\"dataframe\">\n",
       "  <thead>\n",
       "    <tr style=\"text-align: right;\">\n",
       "      <th></th>\n",
       "      <th>Room</th>\n",
       "      <th>Price</th>\n",
       "      <th>Price(USD)</th>\n",
       "    </tr>\n",
       "  </thead>\n",
       "  <tbody>\n",
       "    <tr>\n",
       "      <th>count</th>\n",
       "      <td>3479.000000</td>\n",
       "      <td>3.479000e+03</td>\n",
       "      <td>3.479000e+03</td>\n",
       "    </tr>\n",
       "    <tr>\n",
       "      <th>mean</th>\n",
       "      <td>2.079908</td>\n",
       "      <td>5.359023e+09</td>\n",
       "      <td>1.786341e+05</td>\n",
       "    </tr>\n",
       "    <tr>\n",
       "      <th>std</th>\n",
       "      <td>0.758275</td>\n",
       "      <td>8.099935e+09</td>\n",
       "      <td>2.699978e+05</td>\n",
       "    </tr>\n",
       "    <tr>\n",
       "      <th>min</th>\n",
       "      <td>0.000000</td>\n",
       "      <td>3.600000e+06</td>\n",
       "      <td>1.200000e+02</td>\n",
       "    </tr>\n",
       "    <tr>\n",
       "      <th>25%</th>\n",
       "      <td>2.000000</td>\n",
       "      <td>1.418250e+09</td>\n",
       "      <td>4.727500e+04</td>\n",
       "    </tr>\n",
       "    <tr>\n",
       "      <th>50%</th>\n",
       "      <td>2.000000</td>\n",
       "      <td>2.900000e+09</td>\n",
       "      <td>9.666667e+04</td>\n",
       "    </tr>\n",
       "    <tr>\n",
       "      <th>75%</th>\n",
       "      <td>2.000000</td>\n",
       "      <td>6.000000e+09</td>\n",
       "      <td>2.000000e+05</td>\n",
       "    </tr>\n",
       "    <tr>\n",
       "      <th>max</th>\n",
       "      <td>5.000000</td>\n",
       "      <td>9.240000e+10</td>\n",
       "      <td>3.080000e+06</td>\n",
       "    </tr>\n",
       "  </tbody>\n",
       "</table>\n",
       "</div>"
      ],
      "text/plain": [
       "              Room         Price    Price(USD)\n",
       "count  3479.000000  3.479000e+03  3.479000e+03\n",
       "mean      2.079908  5.359023e+09  1.786341e+05\n",
       "std       0.758275  8.099935e+09  2.699978e+05\n",
       "min       0.000000  3.600000e+06  1.200000e+02\n",
       "25%       2.000000  1.418250e+09  4.727500e+04\n",
       "50%       2.000000  2.900000e+09  9.666667e+04\n",
       "75%       2.000000  6.000000e+09  2.000000e+05\n",
       "max       5.000000  9.240000e+10  3.080000e+06"
      ]
     },
     "execution_count": 40,
     "metadata": {},
     "output_type": "execute_result"
    }
   ],
   "source": [
    "df = pd.read_csv(r\"C:\\Users\\h.rahnavard\\Downloads\\1632300362534233.csv\")\n",
    "df.describe()"
   ]
  },
  {
   "cell_type": "markdown",
   "id": "0cd85fbf-0cce-465f-aeaf-dd1bf33aa875",
   "metadata": {},
   "source": [
    "# assinging numerical values to the state of parkings, warehouses and elevators"
   ]
  },
  {
   "cell_type": "code",
   "execution_count": 41,
   "id": "aad60e6a-8944-4f3d-972a-cddf9a87779f",
   "metadata": {},
   "outputs": [
    {
     "data": {
      "text/html": [
       "<div>\n",
       "<style scoped>\n",
       "    .dataframe tbody tr th:only-of-type {\n",
       "        vertical-align: middle;\n",
       "    }\n",
       "\n",
       "    .dataframe tbody tr th {\n",
       "        vertical-align: top;\n",
       "    }\n",
       "\n",
       "    .dataframe thead th {\n",
       "        text-align: right;\n",
       "    }\n",
       "</style>\n",
       "<table border=\"1\" class=\"dataframe\">\n",
       "  <thead>\n",
       "    <tr style=\"text-align: right;\">\n",
       "      <th></th>\n",
       "      <th>Room</th>\n",
       "      <th>Parking</th>\n",
       "      <th>Warehouse</th>\n",
       "      <th>Elevator</th>\n",
       "      <th>Price</th>\n",
       "      <th>Price(USD)</th>\n",
       "    </tr>\n",
       "  </thead>\n",
       "  <tbody>\n",
       "    <tr>\n",
       "      <th>count</th>\n",
       "      <td>3479.000000</td>\n",
       "      <td>3479.000000</td>\n",
       "      <td>3479.000000</td>\n",
       "      <td>3479.000000</td>\n",
       "      <td>3.479000e+03</td>\n",
       "      <td>3.479000e+03</td>\n",
       "    </tr>\n",
       "    <tr>\n",
       "      <th>mean</th>\n",
       "      <td>2.079908</td>\n",
       "      <td>0.847945</td>\n",
       "      <td>0.914631</td>\n",
       "      <td>0.787295</td>\n",
       "      <td>5.359023e+09</td>\n",
       "      <td>1.786341e+05</td>\n",
       "    </tr>\n",
       "    <tr>\n",
       "      <th>std</th>\n",
       "      <td>0.758275</td>\n",
       "      <td>0.359126</td>\n",
       "      <td>0.279471</td>\n",
       "      <td>0.409279</td>\n",
       "      <td>8.099935e+09</td>\n",
       "      <td>2.699978e+05</td>\n",
       "    </tr>\n",
       "    <tr>\n",
       "      <th>min</th>\n",
       "      <td>0.000000</td>\n",
       "      <td>0.000000</td>\n",
       "      <td>0.000000</td>\n",
       "      <td>0.000000</td>\n",
       "      <td>3.600000e+06</td>\n",
       "      <td>1.200000e+02</td>\n",
       "    </tr>\n",
       "    <tr>\n",
       "      <th>25%</th>\n",
       "      <td>2.000000</td>\n",
       "      <td>1.000000</td>\n",
       "      <td>1.000000</td>\n",
       "      <td>1.000000</td>\n",
       "      <td>1.418250e+09</td>\n",
       "      <td>4.727500e+04</td>\n",
       "    </tr>\n",
       "    <tr>\n",
       "      <th>50%</th>\n",
       "      <td>2.000000</td>\n",
       "      <td>1.000000</td>\n",
       "      <td>1.000000</td>\n",
       "      <td>1.000000</td>\n",
       "      <td>2.900000e+09</td>\n",
       "      <td>9.666667e+04</td>\n",
       "    </tr>\n",
       "    <tr>\n",
       "      <th>75%</th>\n",
       "      <td>2.000000</td>\n",
       "      <td>1.000000</td>\n",
       "      <td>1.000000</td>\n",
       "      <td>1.000000</td>\n",
       "      <td>6.000000e+09</td>\n",
       "      <td>2.000000e+05</td>\n",
       "    </tr>\n",
       "    <tr>\n",
       "      <th>max</th>\n",
       "      <td>5.000000</td>\n",
       "      <td>1.000000</td>\n",
       "      <td>1.000000</td>\n",
       "      <td>1.000000</td>\n",
       "      <td>9.240000e+10</td>\n",
       "      <td>3.080000e+06</td>\n",
       "    </tr>\n",
       "  </tbody>\n",
       "</table>\n",
       "</div>"
      ],
      "text/plain": [
       "              Room      Parking    Warehouse     Elevator         Price  \\\n",
       "count  3479.000000  3479.000000  3479.000000  3479.000000  3.479000e+03   \n",
       "mean      2.079908     0.847945     0.914631     0.787295  5.359023e+09   \n",
       "std       0.758275     0.359126     0.279471     0.409279  8.099935e+09   \n",
       "min       0.000000     0.000000     0.000000     0.000000  3.600000e+06   \n",
       "25%       2.000000     1.000000     1.000000     1.000000  1.418250e+09   \n",
       "50%       2.000000     1.000000     1.000000     1.000000  2.900000e+09   \n",
       "75%       2.000000     1.000000     1.000000     1.000000  6.000000e+09   \n",
       "max       5.000000     1.000000     1.000000     1.000000  9.240000e+10   \n",
       "\n",
       "         Price(USD)  \n",
       "count  3.479000e+03  \n",
       "mean   1.786341e+05  \n",
       "std    2.699978e+05  \n",
       "min    1.200000e+02  \n",
       "25%    4.727500e+04  \n",
       "50%    9.666667e+04  \n",
       "75%    2.000000e+05  \n",
       "max    3.080000e+06  "
      ]
     },
     "execution_count": 41,
     "metadata": {},
     "output_type": "execute_result"
    }
   ],
   "source": [
    "le = LabelEncoder()\n",
    "df[\"Parking\"] = le.fit_transform(df[\"Parking\"])\n",
    "df[\"Warehouse\"] = le.fit_transform(df[\"Warehouse\"])\n",
    "df[\"Elevator\"] = le.fit_transform(df[\"Elevator\"])\n",
    "df.describe()"
   ]
  },
  {
   "cell_type": "markdown",
   "id": "dabf860a-6a98-4eb8-a192-1a4b4ed9625a",
   "metadata": {},
   "source": [
    "# Deleting rows with no addresses"
   ]
  },
  {
   "cell_type": "code",
   "execution_count": 42,
   "id": "79781311-55ca-40b2-9de3-606e3adabc2f",
   "metadata": {},
   "outputs": [
    {
     "data": {
      "text/html": [
       "<div>\n",
       "<style scoped>\n",
       "    .dataframe tbody tr th:only-of-type {\n",
       "        vertical-align: middle;\n",
       "    }\n",
       "\n",
       "    .dataframe tbody tr th {\n",
       "        vertical-align: top;\n",
       "    }\n",
       "\n",
       "    .dataframe thead th {\n",
       "        text-align: right;\n",
       "    }\n",
       "</style>\n",
       "<table border=\"1\" class=\"dataframe\">\n",
       "  <thead>\n",
       "    <tr style=\"text-align: right;\">\n",
       "      <th></th>\n",
       "      <th>Room</th>\n",
       "      <th>Parking</th>\n",
       "      <th>Warehouse</th>\n",
       "      <th>Elevator</th>\n",
       "      <th>Price</th>\n",
       "      <th>Price(USD)</th>\n",
       "    </tr>\n",
       "  </thead>\n",
       "  <tbody>\n",
       "    <tr>\n",
       "      <th>count</th>\n",
       "      <td>3456.000000</td>\n",
       "      <td>3456.000000</td>\n",
       "      <td>3456.000000</td>\n",
       "      <td>3456.000000</td>\n",
       "      <td>3.456000e+03</td>\n",
       "      <td>3.456000e+03</td>\n",
       "    </tr>\n",
       "    <tr>\n",
       "      <th>mean</th>\n",
       "      <td>2.081308</td>\n",
       "      <td>0.847512</td>\n",
       "      <td>0.914931</td>\n",
       "      <td>0.787326</td>\n",
       "      <td>5.379957e+09</td>\n",
       "      <td>1.793319e+05</td>\n",
       "    </tr>\n",
       "    <tr>\n",
       "      <th>std</th>\n",
       "      <td>0.759723</td>\n",
       "      <td>0.359546</td>\n",
       "      <td>0.279025</td>\n",
       "      <td>0.409258</td>\n",
       "      <td>8.121729e+09</td>\n",
       "      <td>2.707243e+05</td>\n",
       "    </tr>\n",
       "    <tr>\n",
       "      <th>min</th>\n",
       "      <td>0.000000</td>\n",
       "      <td>0.000000</td>\n",
       "      <td>0.000000</td>\n",
       "      <td>0.000000</td>\n",
       "      <td>3.600000e+06</td>\n",
       "      <td>1.200000e+02</td>\n",
       "    </tr>\n",
       "    <tr>\n",
       "      <th>25%</th>\n",
       "      <td>2.000000</td>\n",
       "      <td>1.000000</td>\n",
       "      <td>1.000000</td>\n",
       "      <td>1.000000</td>\n",
       "      <td>1.420000e+09</td>\n",
       "      <td>4.733333e+04</td>\n",
       "    </tr>\n",
       "    <tr>\n",
       "      <th>50%</th>\n",
       "      <td>2.000000</td>\n",
       "      <td>1.000000</td>\n",
       "      <td>1.000000</td>\n",
       "      <td>1.000000</td>\n",
       "      <td>2.900000e+09</td>\n",
       "      <td>9.666667e+04</td>\n",
       "    </tr>\n",
       "    <tr>\n",
       "      <th>75%</th>\n",
       "      <td>2.000000</td>\n",
       "      <td>1.000000</td>\n",
       "      <td>1.000000</td>\n",
       "      <td>1.000000</td>\n",
       "      <td>6.000000e+09</td>\n",
       "      <td>2.000000e+05</td>\n",
       "    </tr>\n",
       "    <tr>\n",
       "      <th>max</th>\n",
       "      <td>5.000000</td>\n",
       "      <td>1.000000</td>\n",
       "      <td>1.000000</td>\n",
       "      <td>1.000000</td>\n",
       "      <td>9.240000e+10</td>\n",
       "      <td>3.080000e+06</td>\n",
       "    </tr>\n",
       "  </tbody>\n",
       "</table>\n",
       "</div>"
      ],
      "text/plain": [
       "              Room      Parking    Warehouse     Elevator         Price  \\\n",
       "count  3456.000000  3456.000000  3456.000000  3456.000000  3.456000e+03   \n",
       "mean      2.081308     0.847512     0.914931     0.787326  5.379957e+09   \n",
       "std       0.759723     0.359546     0.279025     0.409258  8.121729e+09   \n",
       "min       0.000000     0.000000     0.000000     0.000000  3.600000e+06   \n",
       "25%       2.000000     1.000000     1.000000     1.000000  1.420000e+09   \n",
       "50%       2.000000     1.000000     1.000000     1.000000  2.900000e+09   \n",
       "75%       2.000000     1.000000     1.000000     1.000000  6.000000e+09   \n",
       "max       5.000000     1.000000     1.000000     1.000000  9.240000e+10   \n",
       "\n",
       "         Price(USD)  \n",
       "count  3.456000e+03  \n",
       "mean   1.793319e+05  \n",
       "std    2.707243e+05  \n",
       "min    1.200000e+02  \n",
       "25%    4.733333e+04  \n",
       "50%    9.666667e+04  \n",
       "75%    2.000000e+05  \n",
       "max    3.080000e+06  "
      ]
     },
     "execution_count": 42,
     "metadata": {},
     "output_type": "execute_result"
    }
   ],
   "source": [
    "bad_indexes = []\n",
    "for i in range(len(df)):\n",
    "    address = df.loc[i, \"Address\"]\n",
    "    if address == \"\" or address is None or address is np.nan or str(address).strip() == 'nan':\n",
    "        bad_indexes.append(i)\n",
    "df = df.drop(bad_indexes).reset_index(drop=True)\n",
    "df.describe()"
   ]
  },
  {
   "cell_type": "markdown",
   "id": "8edb810b-a3bf-4223-b60f-75b99414a18c",
   "metadata": {},
   "source": [
    "# there can be no houses with an area that's greater than 100000 but we also have to find out the maximum area for houses with valid area entries, which, after taking a cursory look, did not go higher than 750. Cheking here: "
   ]
  },
  {
   "cell_type": "code",
   "execution_count": 59,
   "id": "537ff564-285a-44fe-af1a-2ba85556014f",
   "metadata": {},
   "outputs": [
    {
     "name": "stdout",
     "output_type": "stream",
     "text": [
      "16160000000\n",
      "30\n",
      "8802191.396122685\n",
      "int64\n"
     ]
    },
    {
     "data": {
      "text/plain": [
       "0       False\n",
       "1       False\n",
       "2       False\n",
       "3       False\n",
       "4       False\n",
       "        ...  \n",
       "3451    False\n",
       "3452    False\n",
       "3453    False\n",
       "3454    False\n",
       "3455    False\n",
       "Name: Area, Length: 3456, dtype: bool"
      ]
     },
     "execution_count": 59,
     "metadata": {},
     "output_type": "execute_result"
    }
   ],
   "source": [
    "for i in range(len(df)):\n",
    "    rawvalue = df.loc[i,\"Area\"]\n",
    "    converted = str(rawvalue).replace(\",\" , \"\").strip()\n",
    "    df.loc[i,\"Area\"] = int(converted)\n",
    "df[\"Area\"] = pd.to_numeric(df[\"Area\"])\n",
    "df[\"Area\"].describe()\n",
    "print(df[\"Area\"].max())\n",
    "print(df[\"Area\"].min())\n",
    "print(df[\"Area\"].mean())\n",
    "print(df[\"Area\"].dtype)\n",
    "(df[\"Area\"] > 800) & (df[\"Area\"] < 100000).any()"
   ]
  },
  {
   "cell_type": "markdown",
   "id": "74878fdf-ed4c-47d3-80be-e63fd85f23a2",
   "metadata": {},
   "source": [
    "# Deleting rows with invalid area entries:"
   ]
  },
  {
   "cell_type": "code",
   "execution_count": 62,
   "id": "d73ab2b9-3f77-4dec-b0bd-a58ee82bc121",
   "metadata": {},
   "outputs": [
    {
     "data": {
      "text/html": [
       "<div>\n",
       "<style scoped>\n",
       "    .dataframe tbody tr th:only-of-type {\n",
       "        vertical-align: middle;\n",
       "    }\n",
       "\n",
       "    .dataframe tbody tr th {\n",
       "        vertical-align: top;\n",
       "    }\n",
       "\n",
       "    .dataframe thead th {\n",
       "        text-align: right;\n",
       "    }\n",
       "</style>\n",
       "<table border=\"1\" class=\"dataframe\">\n",
       "  <thead>\n",
       "    <tr style=\"text-align: right;\">\n",
       "      <th></th>\n",
       "      <th>Area</th>\n",
       "      <th>Room</th>\n",
       "      <th>Parking</th>\n",
       "      <th>Warehouse</th>\n",
       "      <th>Elevator</th>\n",
       "      <th>Price</th>\n",
       "      <th>Price(USD)</th>\n",
       "    </tr>\n",
       "  </thead>\n",
       "  <tbody>\n",
       "    <tr>\n",
       "      <th>count</th>\n",
       "      <td>3447.000000</td>\n",
       "      <td>3447.000000</td>\n",
       "      <td>3447.000000</td>\n",
       "      <td>3447.000000</td>\n",
       "      <td>3447.000000</td>\n",
       "      <td>3.447000e+03</td>\n",
       "      <td>3.447000e+03</td>\n",
       "    </tr>\n",
       "    <tr>\n",
       "      <th>mean</th>\n",
       "      <td>106.229475</td>\n",
       "      <td>2.080070</td>\n",
       "      <td>0.847404</td>\n",
       "      <td>0.914999</td>\n",
       "      <td>0.787932</td>\n",
       "      <td>5.352295e+09</td>\n",
       "      <td>1.784098e+05</td>\n",
       "    </tr>\n",
       "    <tr>\n",
       "      <th>std</th>\n",
       "      <td>65.548021</td>\n",
       "      <td>0.758756</td>\n",
       "      <td>0.359650</td>\n",
       "      <td>0.278924</td>\n",
       "      <td>0.408832</td>\n",
       "      <td>8.029127e+09</td>\n",
       "      <td>2.676376e+05</td>\n",
       "    </tr>\n",
       "    <tr>\n",
       "      <th>min</th>\n",
       "      <td>30.000000</td>\n",
       "      <td>0.000000</td>\n",
       "      <td>0.000000</td>\n",
       "      <td>0.000000</td>\n",
       "      <td>0.000000</td>\n",
       "      <td>3.600000e+06</td>\n",
       "      <td>1.200000e+02</td>\n",
       "    </tr>\n",
       "    <tr>\n",
       "      <th>25%</th>\n",
       "      <td>69.000000</td>\n",
       "      <td>2.000000</td>\n",
       "      <td>1.000000</td>\n",
       "      <td>1.000000</td>\n",
       "      <td>1.000000</td>\n",
       "      <td>1.418250e+09</td>\n",
       "      <td>4.727500e+04</td>\n",
       "    </tr>\n",
       "    <tr>\n",
       "      <th>50%</th>\n",
       "      <td>90.000000</td>\n",
       "      <td>2.000000</td>\n",
       "      <td>1.000000</td>\n",
       "      <td>1.000000</td>\n",
       "      <td>1.000000</td>\n",
       "      <td>2.900000e+09</td>\n",
       "      <td>9.666667e+04</td>\n",
       "    </tr>\n",
       "    <tr>\n",
       "      <th>75%</th>\n",
       "      <td>120.000000</td>\n",
       "      <td>2.000000</td>\n",
       "      <td>1.000000</td>\n",
       "      <td>1.000000</td>\n",
       "      <td>1.000000</td>\n",
       "      <td>6.000000e+09</td>\n",
       "      <td>2.000000e+05</td>\n",
       "    </tr>\n",
       "    <tr>\n",
       "      <th>max</th>\n",
       "      <td>750.000000</td>\n",
       "      <td>5.000000</td>\n",
       "      <td>1.000000</td>\n",
       "      <td>1.000000</td>\n",
       "      <td>1.000000</td>\n",
       "      <td>9.240000e+10</td>\n",
       "      <td>3.080000e+06</td>\n",
       "    </tr>\n",
       "  </tbody>\n",
       "</table>\n",
       "</div>"
      ],
      "text/plain": [
       "              Area         Room      Parking    Warehouse     Elevator  \\\n",
       "count  3447.000000  3447.000000  3447.000000  3447.000000  3447.000000   \n",
       "mean    106.229475     2.080070     0.847404     0.914999     0.787932   \n",
       "std      65.548021     0.758756     0.359650     0.278924     0.408832   \n",
       "min      30.000000     0.000000     0.000000     0.000000     0.000000   \n",
       "25%      69.000000     2.000000     1.000000     1.000000     1.000000   \n",
       "50%      90.000000     2.000000     1.000000     1.000000     1.000000   \n",
       "75%     120.000000     2.000000     1.000000     1.000000     1.000000   \n",
       "max     750.000000     5.000000     1.000000     1.000000     1.000000   \n",
       "\n",
       "              Price    Price(USD)  \n",
       "count  3.447000e+03  3.447000e+03  \n",
       "mean   5.352295e+09  1.784098e+05  \n",
       "std    8.029127e+09  2.676376e+05  \n",
       "min    3.600000e+06  1.200000e+02  \n",
       "25%    1.418250e+09  4.727500e+04  \n",
       "50%    2.900000e+09  9.666667e+04  \n",
       "75%    6.000000e+09  2.000000e+05  \n",
       "max    9.240000e+10  3.080000e+06  "
      ]
     },
     "execution_count": 62,
     "metadata": {},
     "output_type": "execute_result"
    }
   ],
   "source": [
    "wrong_areas = []\n",
    "for i in range(len(df)):\n",
    "    if df.loc[i,\"Area\"] > 800:\n",
    "        wrong_areas.append(i)\n",
    "df = df.drop(wrong_areas).reset_index(drop=True)\n",
    "df.describe()"
   ]
  },
  {
   "cell_type": "markdown",
   "id": "8855d871-955e-4ea4-ad68-8ec807f24a5c",
   "metadata": {},
   "source": [
    "# In an attempt to assign numerical values to addresses, first we ignore repetitions "
   ]
  },
  {
   "cell_type": "code",
   "execution_count": 65,
   "id": "945255b9-f05a-4f4a-a9ae-955e1fc29648",
   "metadata": {},
   "outputs": [
    {
     "name": "stdout",
     "output_type": "stream",
     "text": [
      "['Shahran', 'Pardis', 'Shahrake Qods', 'Shahrake Gharb', 'North Program Organization', 'Andisheh', 'West Ferdows Boulevard', 'Narmak', 'Saadat Abad', 'Zafar', 'Islamshahr', 'Pirouzi', 'Shahrake Shahid Bagheri', 'Moniriyeh', 'Velenjak', 'Amirieh', 'Southern Janatabad', 'Salsabil', 'Zargandeh', 'Feiz Garden', 'Water Organization', 'ShahrAra', 'Gisha', 'Ray', 'Abbasabad', 'Ostad Moein', 'Farmanieh', 'Parand', 'Punak', 'Qasr-od-Dasht', 'Aqdasieh', 'Pakdasht', 'Railway', 'Central Janatabad', 'East Ferdows Boulevard', 'Pakdasht KhatunAbad', 'Sattarkhan', 'Baghestan', 'Shahryar', 'Northern Janatabad', 'Daryan No', 'Southern Program Organization', 'Rudhen', 'West Pars', 'Afsarieh', 'Marzdaran', 'Dorous', 'Sadeghieh', 'Chahardangeh', 'Baqershahr', 'Jeyhoon', 'Lavizan', 'Shams Abad', 'Fatemi', 'Keshavarz Boulevard', 'Kahrizak', 'Qarchak', 'Northren Jamalzadeh', 'Azarbaijan', 'Bahar', 'Persian Gulf Martyrs Lake', 'Beryanak', 'Heshmatieh', 'Elm-o-Sanat', 'Golestan', 'Shahr-e-Ziba', 'Pasdaran', 'Chardivari', 'Gheitarieh', 'Kamranieh', 'Gholhak', 'Heravi', 'Hashemi', 'Dehkade Olampic', 'Damavand', 'Republic', 'Zaferanieh', 'Qazvin Imamzadeh Hassan', 'Niavaran', 'Valiasr', 'Qalandari', 'Amir Bahador', 'Ekhtiarieh', 'Ekbatan', 'Absard', 'Haft Tir', 'Mahallati', 'Ozgol', 'Tajrish', 'Abazar', 'Koohsar', 'Hekmat', 'Parastar', 'Lavasan', 'Majidieh', 'Southern Chitgar', 'Karimkhan', 'Si Metri Ji', 'Karoon', 'Northern Chitgar', 'East Pars', 'Kook', 'Air force', 'Sohanak', 'Komeil', 'Azadshahr', 'Zibadasht', 'Amirabad', 'Dezashib', 'Elahieh', 'Mirdamad', 'Razi', 'Jordan', 'Mahmoudieh', 'Shahedshahr', 'Yaftabad', 'Mehran', 'Nasim Shahr', 'Tenant', 'Chardangeh', 'Fallah', 'Eskandari', 'Shahrakeh Naft', 'Ajudaniye', 'Tehransar', 'Nawab', 'Yousef Abad', 'Northern Suhrawardi', 'Villa', 'Hakimiyeh', 'Nezamabad', 'Garden of Saba', 'Tarasht', 'Azari', 'Shahrake Apadana', 'Araj', 'Vahidieh', 'Malard', 'Shahrake Azadi', 'Darband', 'Vanak', 'Tehran Now', 'Darabad', 'Eram', 'Atabak', 'Sabalan', 'SabaShahr', 'Shahrake Madaen', 'Waterfall', 'Ahang', 'Salehabad', 'Pishva', 'Enghelab', 'Islamshahr Elahieh', 'Ray - Montazeri', 'Firoozkooh Kuhsar', 'Ghoba', 'Mehrabad', 'Southern Suhrawardi', 'Abuzar', 'Dolatabad', 'Hor Square', 'Taslihat', 'Kazemabad', 'Robat Karim', 'Ray - Pilgosh', 'Ghiyamdasht', 'Telecommunication', 'Mirza Shirazi', 'Gandhi', 'Argentina', 'Seyed Khandan', 'Shahrake Quds', 'Safadasht', 'Khademabad Garden', 'Hassan Abad', 'Chidz', 'Khavaran', 'Boloorsazi', 'Mehrabad River River', 'Varamin - Beheshti', 'Shoosh', 'Thirteen November', 'Darakeh', 'Aliabad South', 'Alborz Complex', 'Firoozkooh', 'Vahidiyeh', 'Shadabad', 'Naziabad', 'Javadiyeh', 'Yakhchiabad']\n"
     ]
    }
   ],
   "source": [
    "unique_addresses = df[\"Address\"].drop_duplicates()\n",
    "print(list(unique_addresses))"
   ]
  },
  {
   "cell_type": "markdown",
   "id": "d58bc740-4a21-4b74-bc67-d783d1384f9d",
   "metadata": {},
   "source": [
    "# Trying to calculate each places's coordinate to be able to calculate the distance between them and uptown, assinging the distance as numerical values later on."
   ]
  },
  {
   "cell_type": "code",
   "execution_count": 73,
   "id": "11798d86-4dc0-4526-9a30-48ed92896e88",
   "metadata": {},
   "outputs": [
    {
     "name": "stdout",
     "output_type": "stream",
     "text": [
      "Shahran, (35.753978, 51.2874715)\n",
      "Pardis, (35.7411286, 51.815509)\n",
      "Shahrake Qods, None\n",
      "Shahrake Gharb, None\n",
      "North Program Organization, None\n",
      "Andisheh, (35.7052413, 51.0296232)\n",
      "West Ferdows Boulevard, None\n",
      "Narmak, (35.7363694, 51.5041892)\n",
      "Saadat Abad, (35.7860955, 51.3781445)\n",
      "Zafar, (35.7668336, 51.4194241)\n",
      "Islamshahr, (35.5478513, 51.2318676)\n",
      "Pirouzi, (35.6909048, 51.4571519)\n",
      "Shahrake Shahid Bagheri, None\n",
      "Moniriyeh, (35.6811307, 51.401641)\n",
      "Velenjak, (35.8066647, 51.4013931)\n",
      "Amirieh, (35.6289081, 51.027627)\n",
      "Southern Janatabad, None\n",
      "Salsabil, (35.6961197, 51.37395)\n",
      "Zargandeh, (35.7732674, 51.4329527)\n",
      "Feiz Garden, None\n",
      "Water Organization, (35.7164354, 51.396155)\n",
      "ShahrAra, (35.717269, 51.3739168)\n",
      "Gisha, (35.7369191, 51.3770576)\n",
      "Ray, (35.5989911, 51.4357865)\n",
      "Abbasabad, (35.5866299, 51.3384738)\n",
      "Ostad Moein, (35.7001565, 51.3447089)\n",
      "Farmanieh, (35.7961378, 51.4710658)\n",
      "Parand, (35.477882, 50.9469189)\n",
      "Punak, (35.7579873, 51.324842)\n",
      "Qasr-od-Dasht, None\n",
      "Aqdasieh, None\n",
      "Pakdasht, (35.4784573, 51.6824624)\n",
      "Railway, None\n",
      "Central Janatabad, None\n",
      "East Ferdows Boulevard, None\n",
      "Pakdasht KhatunAbad, (35.5076412, 51.6680495)\n",
      "Sattarkhan, (35.7246873, 51.3585026)\n",
      "Baghestan, (35.635564, 51.1346204)\n",
      "Shahryar, (35.8019146, 51.4069631)\n",
      "Northern Janatabad, None\n",
      "Daryan No, (35.7146676, 51.3623258)\n",
      "Southern Program Organization, None\n",
      "Rudhen, None\n",
      "West Pars, None\n",
      "Afsarieh, (35.6523159, 51.4930224)\n",
      "Marzdaran, (35.738556, 51.3392797)\n",
      "Dorous, None\n",
      "Sadeghieh, (35.7211465, 51.3451691)\n",
      "Chahardangeh, (35.6067482, 51.3100612)\n",
      "Baqershahr, (35.5338489, 51.4053842)\n",
      "Jeyhoon, None\n",
      "Lavizan, (35.7685251, 51.5235799)\n",
      "Shams Abad, (35.7479947, 51.4770365)\n",
      "Fatemi, (35.7184219, 51.3895614)\n",
      "Keshavarz Boulevard, (35.7077242, 51.3916836)\n",
      "Kahrizak, (35.517323, 51.3618852)\n",
      "Qarchak, (35.4421824, 51.5697005)\n",
      "Northren Jamalzadeh, None\n",
      "Azarbaijan, None\n",
      "Bahar, (35.7102335, 51.4333621)\n",
      "Persian Gulf Martyrs Lake, (35.7451443, 51.2140589)\n",
      "Beryanak, (35.6752015, 51.3769458)\n",
      "Heshmatieh, (35.7264682, 51.4502086)\n",
      "Elm-o-Sanat, (35.7412446, 51.5092195)\n",
      "Golestan, (35.5214193, 51.1767192)\n",
      "Shahr-e-Ziba, (35.7456674, 51.2947466)\n",
      "Pasdaran, (35.7796946, 51.4673395)\n",
      "Chardivari, None\n",
      "Gheitarieh, None\n",
      "Kamranieh, (35.7971068, 51.460495)\n",
      "Gholhak, (35.7728855, 51.4381145)\n",
      "Heravi, (35.772078, 51.4731866)\n",
      "Hashemi, (35.6846963, 51.3593942)\n",
      "Dehkade Olampic, None\n",
      "Damavand, (35.7179802, 52.0681882)\n",
      "Republic, None\n",
      "Zaferanieh, (35.8076813, 51.4163789)\n",
      "Qazvin Imamzadeh Hassan, None\n",
      "Niavaran, (35.8160561, 51.4709472)\n",
      "Valiasr, (35.7079474, 51.4132273)\n",
      "Qalandari, (35.7787437, 51.4422618)\n",
      "Amir Bahador, (35.6711496, 51.4036211)\n",
      "Ekhtiarieh, (35.7863456, 51.4611775)\n",
      "Ekbatan, (35.7069661, 51.3056201)\n",
      "Absard, (35.6231852, 52.1528132)\n",
      "Haft Tir, (35.7159879, 51.4258995)\n",
      "Mahallati, (35.7978034, 51.5081682)\n",
      "Ozgol, (35.7947191, 51.5006754)\n",
      "Tajrish, (35.804937, 51.4409634)\n",
      "Abazar, (35.7308741, 51.3302859)\n",
      "Koohsar, (35.8054997, 51.3763964)\n",
      "Hekmat, (35.8006552, 51.4452029)\n",
      "Parastar, (35.6883581, 51.4837882)\n",
      "Lavasan, (35.8204845, 51.6321444)\n",
      "Majidieh, (35.7357141, 51.4656043)\n",
      "Southern Chitgar, None\n",
      "Karimkhan, (35.7134809, 51.4123789)\n",
      "Si Metri Ji, None\n",
      "Karoon, (35.6869307, 51.3671627)\n",
      "Northern Chitgar, None\n",
      "East Pars, None\n",
      "Kook, (35.7812574, 51.4493246)\n",
      "Air force, (35.7125884, 51.4838998)\n",
      "Sohanak, None\n",
      "Komeil, (35.6805094, 51.3628239)\n",
      "Azadshahr, None\n",
      "Zibadasht, (35.7523909, 51.2613119)\n",
      "Amirabad, (35.6819462, 50.7948472)\n",
      "Dezashib, (35.8091055, 51.4553023)\n",
      "Elahieh, (35.7898612, 51.4262023)\n",
      "Mirdamad, (35.7601006, 51.4339605)\n",
      "Razi, (35.812923, 51.4143711)\n",
      "Jordan, (35.7746178, 51.4215269)\n",
      "Mahmoudieh, None\n",
      "Shahedshahr, (35.5735353, 51.0868332)\n",
      "Yaftabad, (35.6612358, 51.3421551)\n",
      "Mehran, (35.7487797, 51.4565244)\n",
      "Nasim Shahr, (35.5558512, 51.1688909)\n",
      "Tenant, None\n",
      "Chardangeh, None\n",
      "Fallah, (35.7752358, 51.3378822)\n",
      "Eskandari, (35.6886157, 51.3813448)\n",
      "Shahrakeh Naft, None\n",
      "Ajudaniye, (35.8055509, 51.480843)\n",
      "Tehransar, (35.6942692, 51.2558471)\n",
      "Nawab, None\n",
      "Yousef Abad, (35.7346597, 51.4045663)\n",
      "Northern Suhrawardi, None\n",
      "Villa, None\n",
      "Hakimiyeh, None\n",
      "Nezamabad, (35.7184215, 51.4642016)\n",
      "Garden of Saba, None\n",
      "Tarasht, (35.7160834, 51.3435808)\n",
      "Azari, (35.6671035, 51.3507428)\n",
      "Shahrake Apadana, None\n",
      "Araj, (35.795851, 51.4887161)\n",
      "Vahidieh, (35.6062379, 51.0263766)\n",
      "Malard, (35.666763, 50.9790423)\n",
      "Shahrake Azadi, None\n",
      "Darband, (35.8135171, 51.429482)\n",
      "Vanak, (35.764663, 51.4058606)\n",
      "Tehran Now, (35.7177195, 51.3646454)\n",
      "Darabad, (35.861468, 51.4978891)\n",
      "Eram, (35.7290819, 51.2881123)\n",
      "Atabak, (35.6480563, 51.462443)\n",
      "Sabalan, (35.7182413, 51.4645702)\n",
      "SabaShahr, (35.5824779, 51.1130446)\n",
      "Shahrake Madaen, None\n",
      "Waterfall, (35.8958791, 51.2056293)\n",
      "Ahang, (35.6634373, 51.476794)\n",
      "Salehabad, (35.5052878, 51.1915512)\n",
      "Pishva, (35.308412, 51.7189409)\n",
      "Enghelab, (35.7434857, 51.4764541)\n",
      "Islamshahr Elahieh, None\n",
      "Ray - Montazeri, None\n",
      "Firoozkooh Kuhsar, None\n",
      "Ghoba, (35.764634, 51.4511046)\n",
      "Mehrabad, (35.7058305, 51.9134255)\n",
      "Southern Suhrawardi, None\n",
      "Abuzar, (35.6811427, 51.4897808)\n",
      "Dolatabad, None\n",
      "Hor Square, (35.6881807, 51.392845)\n",
      "Taslihat, (35.7195274, 51.4727538)\n",
      "Kazemabad, None\n",
      "Robat Karim, (35.4805558, 51.0781568)\n",
      "Ray - Pilgosh, None\n",
      "Ghiyamdasht, None\n",
      "Telecommunication, (35.7499317, 51.3953108)\n",
      "Mirza Shirazi, (35.7281781, 51.4169344)\n",
      "Gandhi, (35.7519323, 51.4124189)\n",
      "Argentina, None\n",
      "Seyed Khandan, (35.7470497, 51.443004)\n",
      "Shahrake Quds, None\n",
      "Safadasht, (35.692438, 50.8482841)\n",
      "Khademabad Garden, None\n",
      "Hassan Abad, (35.6861227, 51.4101573)\n",
      "Chidz, None\n",
      "Khavaran, (35.6651028, 51.452874)\n",
      "Boloorsazi, None\n",
      "Mehrabad River River, None\n",
      "Varamin - Beheshti, None\n",
      "Shoosh, (35.6572974, 51.4142116)\n",
      "Thirteen November, None\n",
      "Darakeh, (35.8043457, 51.3827097)\n",
      "Aliabad South, None\n",
      "Alborz Complex, (35.6839344, 52.0268206)\n",
      "Firoozkooh, (35.8115692, 51.4157946)\n",
      "Vahidiyeh, None\n",
      "Shadabad, (35.6587311, 51.3160879)\n",
      "Naziabad, None\n",
      "Javadiyeh, (35.6593516, 51.387791)\n",
      "Yakhchiabad, None\n",
      "[(35.753978, 51.2874715), (35.7411286, 51.815509), None, None, None, (35.7052413, 51.0296232), None, (35.7363694, 51.5041892), (35.7860955, 51.3781445), (35.7668336, 51.4194241), (35.5478513, 51.2318676), (35.6909048, 51.4571519), None, (35.6811307, 51.401641), (35.8066647, 51.4013931), (35.6289081, 51.027627), None, (35.6961197, 51.37395), (35.7732674, 51.4329527), None, (35.7164354, 51.396155), (35.717269, 51.3739168), (35.7369191, 51.3770576), (35.5989911, 51.4357865), (35.5866299, 51.3384738), (35.7001565, 51.3447089), (35.7961378, 51.4710658), (35.477882, 50.9469189), (35.7579873, 51.324842), None, None, (35.4784573, 51.6824624), None, None, None, (35.5076412, 51.6680495), (35.7246873, 51.3585026), (35.635564, 51.1346204), (35.8019146, 51.4069631), None, (35.7146676, 51.3623258), None, None, None, (35.6523159, 51.4930224), (35.738556, 51.3392797), None, (35.7211465, 51.3451691), (35.6067482, 51.3100612), (35.5338489, 51.4053842), None, (35.7685251, 51.5235799), (35.7479947, 51.4770365), (35.7184219, 51.3895614), (35.7077242, 51.3916836), (35.517323, 51.3618852), (35.4421824, 51.5697005), None, None, (35.7102335, 51.4333621), (35.7451443, 51.2140589), (35.6752015, 51.3769458), (35.7264682, 51.4502086), (35.7412446, 51.5092195), (35.5214193, 51.1767192), (35.7456674, 51.2947466), (35.7796946, 51.4673395), None, None, (35.7971068, 51.460495), (35.7728855, 51.4381145), (35.772078, 51.4731866), (35.6846963, 51.3593942), None, (35.7179802, 52.0681882), None, (35.8076813, 51.4163789), None, (35.8160561, 51.4709472), (35.7079474, 51.4132273), (35.7787437, 51.4422618), (35.6711496, 51.4036211), (35.7863456, 51.4611775), (35.7069661, 51.3056201), (35.6231852, 52.1528132), (35.7159879, 51.4258995), (35.7978034, 51.5081682), (35.7947191, 51.5006754), (35.804937, 51.4409634), (35.7308741, 51.3302859), (35.8054997, 51.3763964), (35.8006552, 51.4452029), (35.6883581, 51.4837882), (35.8204845, 51.6321444), (35.7357141, 51.4656043), None, (35.7134809, 51.4123789), None, (35.6869307, 51.3671627), None, None, (35.7812574, 51.4493246), (35.7125884, 51.4838998), None, (35.6805094, 51.3628239), None, (35.7523909, 51.2613119), (35.6819462, 50.7948472), (35.8091055, 51.4553023), (35.7898612, 51.4262023), (35.7601006, 51.4339605), (35.812923, 51.4143711), (35.7746178, 51.4215269), None, (35.5735353, 51.0868332), (35.6612358, 51.3421551), (35.7487797, 51.4565244), (35.5558512, 51.1688909), None, None, (35.7752358, 51.3378822), (35.6886157, 51.3813448), None, (35.8055509, 51.480843), (35.6942692, 51.2558471), None, (35.7346597, 51.4045663), None, None, None, (35.7184215, 51.4642016), None, (35.7160834, 51.3435808), (35.6671035, 51.3507428), None, (35.795851, 51.4887161), (35.6062379, 51.0263766), (35.666763, 50.9790423), None, (35.8135171, 51.429482), (35.764663, 51.4058606), (35.7177195, 51.3646454), (35.861468, 51.4978891), (35.7290819, 51.2881123), (35.6480563, 51.462443), (35.7182413, 51.4645702), (35.5824779, 51.1130446), None, (35.8958791, 51.2056293), (35.6634373, 51.476794), (35.5052878, 51.1915512), (35.308412, 51.7189409), (35.7434857, 51.4764541), None, None, None, (35.764634, 51.4511046), (35.7058305, 51.9134255), None, (35.6811427, 51.4897808), None, (35.6881807, 51.392845), (35.7195274, 51.4727538), None, (35.4805558, 51.0781568), None, None, (35.7499317, 51.3953108), (35.7281781, 51.4169344), (35.7519323, 51.4124189), None, (35.7470497, 51.443004), None, (35.692438, 50.8482841), None, (35.6861227, 51.4101573), None, (35.6651028, 51.452874), None, None, None, (35.6572974, 51.4142116), None, (35.8043457, 51.3827097), None, (35.6839344, 52.0268206), (35.8115692, 51.4157946), None, (35.6587311, 51.3160879), None, (35.6593516, 51.387791), None]\n"
     ]
    }
   ],
   "source": [
    "import time\n",
    "from geopy.geocoders import Nominatim\n",
    "geolocater = Nominatim(user_agent = 'me')\n",
    "def get_coords(place):\n",
    "    location = geolocater.geocode(f\"{place}, Tehran, Iran\")\n",
    "    if location:\n",
    "        return (location.latitude, location.longitude)\n",
    "    else:\n",
    "        return None\n",
    "\n",
    "coordinates = []\n",
    "for i in unique_addresses:\n",
    "    place = i\n",
    "    coord = get_coords(place)\n",
    "    print(f\"{place}, {coord}\")\n",
    "    coordinates.append(coord)\n",
    "    time.sleep(1)\n",
    "print(coordinates)\n"
   ]
  },
  {
   "cell_type": "markdown",
   "id": "2f2430ab-19c2-4d03-99e9-3eae69cf0bba",
   "metadata": {},
   "source": [
    "# Checking for places that are not found through Nominatim"
   ]
  },
  {
   "cell_type": "code",
   "execution_count": 78,
   "id": "a45d1c10-dc04-4c2c-bded-253db47fe0b9",
   "metadata": {},
   "outputs": [
    {
     "name": "stdout",
     "output_type": "stream",
     "text": [
      "['Shahrake Qods', 'Shahrake Gharb', 'North Program Organization', 'West Ferdows Boulevard', 'Shahrake Shahid Bagheri', 'Southern Janatabad', 'Feiz Garden', 'Qasr-od-Dasht', 'Aqdasieh', 'Railway', 'Central Janatabad', 'East Ferdows Boulevard', 'Northern Janatabad', 'Southern Program Organization', 'Rudhen', 'West Pars', 'Dorous', 'Jeyhoon', 'Northren Jamalzadeh', 'Azarbaijan', 'Chardivari', 'Gheitarieh', 'Dehkade Olampic', 'Republic', 'Qazvin Imamzadeh Hassan', 'Southern Chitgar', 'Si Metri Ji', 'Northern Chitgar', 'East Pars', 'Sohanak', 'Azadshahr', 'Mahmoudieh', 'Tenant', 'Chardangeh', 'Shahrakeh Naft', 'Nawab', 'Northern Suhrawardi', 'Villa', 'Hakimiyeh', 'Garden of Saba', 'Shahrake Apadana', 'Shahrake Azadi', 'Shahrake Madaen', 'Islamshahr Elahieh', 'Ray - Montazeri', 'Firoozkooh Kuhsar', 'Southern Suhrawardi', 'Dolatabad', 'Kazemabad', 'Ray - Pilgosh', 'Ghiyamdasht', 'Argentina', 'Shahrake Quds', 'Khademabad Garden', 'Chidz', 'Boloorsazi', 'Mehrabad River River', 'Varamin - Beheshti', 'Thirteen November', 'Aliabad South', 'Vahidiyeh', 'Naziabad', 'Yakhchiabad']\n"
     ]
    }
   ],
   "source": [
    "Manual_edit = []\n",
    "for place, coord in zip(unique_addresses, coordinates):\n",
    "    if coord == None:\n",
    "        Manual_edit.append(f\"{place}\")\n",
    "print(Manual_edit)"
   ]
  },
  {
   "cell_type": "markdown",
   "id": "3f2f2822-271f-4130-9e37-becedde365b3",
   "metadata": {},
   "source": [
    "# assigning imaginary coordinates to the not-found places:"
   ]
  },
  {
   "cell_type": "code",
   "execution_count": 79,
   "id": "30a660d9-0cef-4680-9ac4-3930f3758895",
   "metadata": {},
   "outputs": [
    {
     "name": "stdout",
     "output_type": "stream",
     "text": [
      "[(35.753978, 51.2874715), (35.7411286, 51.815509), (35.7, 51.15), (35.75, 51.3), (35.8, 51.4), (35.7052413, 51.0296232), (35.72, 51.28), (35.7363694, 51.5041892), (35.7860955, 51.3781445), (35.7668336, 51.4194241), (35.5478513, 51.2318676), (35.6909048, 51.4571519), (35.77, 51.32), (35.6811307, 51.401641), (35.8066647, 51.4013931), (35.6289081, 51.027627), (35.68, 51.25), (35.6961197, 51.37395), (35.7732674, 51.4329527), (35.73, 51.2), (35.7164354, 51.396155), (35.717269, 51.3739168), (35.7369191, 51.3770576), (35.5989911, 51.4357865), (35.5866299, 51.3384738), (35.7001565, 51.3447089), (35.7961378, 51.4710658), (35.477882, 50.9469189), (35.7579873, 51.324842), (35.69, 51.22), (35.76, 51.34), (35.4784573, 51.6824624), (35.71, 51.18), (35.69, 51.24), (35.73, 51.29), (35.5076412, 51.6680495), (35.7246873, 51.3585026), (35.635564, 51.1346204), (35.8019146, 51.4069631), (35.7, 51.27), (35.7146676, 51.3623258), (35.67, 51.23), (35.79, 51.38), (35.74, 51.31), (35.6523159, 51.4930224), (35.738556, 51.3392797), (35.72, 51.21), (35.7211465, 51.3451691), (35.6067482, 51.3100612), (35.5338489, 51.4053842), (35.71, 51.26), (35.7685251, 51.5235799), (35.7479947, 51.4770365), (35.7184219, 51.3895614), (35.7077242, 51.3916836), (35.517323, 51.3618852), (35.4421824, 51.5697005), (35.78, 51.37), (35.69, 51.33), (35.7102335, 51.4333621), (35.7451443, 51.2140589), (35.6752015, 51.3769458), (35.7264682, 51.4502086), (35.7412446, 51.5092195), (35.5214193, 51.1767192), (35.7456674, 51.2947466), (35.7796946, 51.4673395), (35.705, 51.225), (35.76, 51.315), (35.7971068, 51.460495), (35.7728855, 51.4381145), (35.772078, 51.4731866), (35.6846963, 51.3593942), (35.715, 51.24), (35.7179802, 52.0681882), (35.725, 51.28), (35.8076813, 51.4163789), (35.695, 51.21), (35.8160561, 51.4709472), (35.7079474, 51.4132273), (35.7787437, 51.4422618), (35.6711496, 51.4036211), (35.7863456, 51.4611775), (35.7069661, 51.3056201), (35.6231852, 52.1528132), (35.7159879, 51.4258995), (35.7978034, 51.5081682), (35.7947191, 51.5006754), (35.804937, 51.4409634), (35.7308741, 51.3302859), (35.8054997, 51.3763964), (35.8006552, 51.4452029), (35.6883581, 51.4837882), (35.8204845, 51.6321444), (35.7357141, 51.4656043), (35.68, 51.29), (35.7134809, 51.4123789), (35.75, 51.27), (35.6869307, 51.3671627), (35.77, 51.295), (35.735, 51.325), (35.7812574, 51.4493246), (35.7125884, 51.4838998), (35.71, 51.355), (35.6805094, 51.3628239), (35.7, 51.36), (35.7523909, 51.2613119), (35.6819462, 50.7948472), (35.8091055, 51.4553023), (35.7898612, 51.4262023), (35.7601006, 51.4339605), (35.812923, 51.4143711), (35.7746178, 51.4215269), (35.745, 51.33), (35.5735353, 51.0868332), (35.6612358, 51.3421551), (35.7487797, 51.4565244), (35.5558512, 51.1688909), (35.73, 51.31), (35.695, 51.275), (35.7752358, 51.3378822), (35.6886157, 51.3813448), (35.74, 51.29), (35.8055509, 51.480843), (35.6942692, 51.2558471), (35.71, 51.3), (35.7346597, 51.4045663), (35.72, 51.32), (35.7, 51.295), (35.715, 51.31), (35.7184215, 51.4642016), (35.725, 51.335), (35.7160834, 51.3435808), (35.6671035, 51.3507428), (35.735, 51.32), (35.795851, 51.4887161), (35.6062379, 51.0263766), (35.666763, 50.9790423), (35.75, 51.335), (35.8135171, 51.429482), (35.764663, 51.4058606), (35.7177195, 51.3646454), (35.861468, 51.4978891), (35.7290819, 51.2881123), (35.6480563, 51.462443), (35.7182413, 51.4645702), (35.5824779, 51.1130446), (35.72, 51.34), (35.8958791, 51.2056293), (35.6634373, 51.476794), (35.5052878, 51.1915512), (35.308412, 51.7189409), (35.7434857, 51.4764541), (35.69, 51.3), (35.7, 51.31), (35.78, 51.29), (35.764634, 51.4511046), (35.7058305, 51.9134255), (35.67, 51.28), (35.6811427, 51.4897808), (35.685, 51.265), (35.6881807, 51.392845), (35.7195274, 51.4727538), (35.7, 51.285), (35.4805558, 51.0781568), (35.705, 51.295), (35.715, 51.31), (35.7499317, 51.3953108), (35.7281781, 51.4169344), (35.7519323, 51.4124189), (35.72, 51.32), (35.7470497, 51.443004), (35.73, 51.33), (35.692438, 50.8482841), (35.74, 51.34), (35.6861227, 51.4101573), (35.75, 51.35), (35.6651028, 51.452874), (35.76, 51.36), (35.77, 51.37), (35.78, 51.38), (35.6572974, 51.4142116), (35.79, 51.39), (35.8043457, 51.3827097), (35.8, 51.4), (35.6839344, 52.0268206), (35.8115692, 51.4157946), (35.81, 51.41), (35.6587311, 51.3160879), (35.82, 51.42), (35.6593516, 51.387791), (35.83, 51.43)]\n"
     ]
    }
   ],
   "source": [
    "imaginary_coords = {\n",
    "    'Shahrake Qods': (35.700, 51.150),\n",
    "    'Shahrake Gharb': (35.750, 51.300),\n",
    "    'North Program Organization': (35.800, 51.400),\n",
    "    'West Ferdows Boulevard': (35.720, 51.280),\n",
    "    'Shahrake Shahid Bagheri': (35.770, 51.320),\n",
    "    'Southern Janatabad': (35.680, 51.250),\n",
    "    'Feiz Garden': (35.730, 51.200),\n",
    "    'Qasr-od-Dasht': (35.690, 51.220),\n",
    "    'Aqdasieh': (35.760, 51.340),\n",
    "    'Railway': (35.710, 51.180),\n",
    "    'Central Janatabad': (35.690, 51.240),\n",
    "    'East Ferdows Boulevard': (35.730, 51.290),\n",
    "    'Northern Janatabad': (35.700, 51.270),\n",
    "    'Southern Program Organization': (35.670, 51.230),\n",
    "    'Rudhen': (35.790, 51.380),\n",
    "    'West Pars': (35.740, 51.310),\n",
    "    'Dorous': (35.720, 51.210),\n",
    "    'Jeyhoon': (35.710, 51.260),\n",
    "    'Northren Jamalzadeh': (35.780, 51.370),\n",
    "    'Azarbaijan': (35.690, 51.330),\n",
    "    'Chardivari': (35.705, 51.225),\n",
    "    'Gheitarieh': (35.760, 51.315),\n",
    "    'Dehkade Olampic': (35.715, 51.240),\n",
    "    'Republic': (35.725, 51.280),\n",
    "    'Qazvin Imamzadeh Hassan': (35.695, 51.210),\n",
    "    'Southern Chitgar': (35.680, 51.290),\n",
    "    'Si Metri Ji': (35.750, 51.270),\n",
    "    'Northern Chitgar': (35.770, 51.295),\n",
    "    'East Pars': (35.735, 51.325),\n",
    "    'Sohanak': (35.710, 51.355),\n",
    "    'Azadshahr': (35.700, 51.360),\n",
    "    'Mahmoudieh': (35.745, 51.330),\n",
    "    'Tenant': (35.730, 51.310),\n",
    "    'Chardangeh': (35.695, 51.275),\n",
    "    'Shahrakeh Naft': (35.740, 51.290),\n",
    "    'Nawab': (35.710, 51.300),\n",
    "    'Northern Suhrawardi': (35.720, 51.320),\n",
    "    'Villa': (35.700, 51.295),\n",
    "    'Hakimiyeh': (35.715, 51.310),\n",
    "    'Garden of Saba': (35.725, 51.335),\n",
    "    'Shahrake Apadana': (35.735, 51.320),\n",
    "    'Shahrake Azadi': (35.750, 51.335),\n",
    "    'Shahrake Madaen': (35.720, 51.340),\n",
    "    'Islamshahr Elahieh': (35.690, 51.300),\n",
    "    'Ray - Montazeri': (35.700, 51.310),\n",
    "    'Firoozkooh Kuhsar': (35.780, 51.290),\n",
    "    'Southern Suhrawardi': (35.670, 51.280),\n",
    "    'Dolatabad': (35.685, 51.265),\n",
    "    'Kazemabad': (35.700, 51.285),\n",
    "    'Ray - Pilgosh': (35.705, 51.295),\n",
    "    'Ghiyamdasht': (35.715, 51.310),\n",
    "    'Argentina': (35.720, 51.320),\n",
    "    'Shahrake Quds': (35.730, 51.330),\n",
    "    'Khademabad Garden': (35.740, 51.340),\n",
    "    'Chidz': (35.750, 51.350),\n",
    "    'Boloorsazi': (35.760, 51.360),\n",
    "    'Mehrabad River River': (35.770, 51.370),\n",
    "    'Varamin - Beheshti': (35.780, 51.380),\n",
    "    'Thirteen November': (35.790, 51.390),\n",
    "    'Aliabad South': (35.800, 51.400),\n",
    "    'Vahidiyeh': (35.810, 51.410),\n",
    "    'Naziabad': (35.820, 51.420),\n",
    "    'Yakhchiabad': (35.830, 51.430),\n",
    "}\n",
    "for i, (place, coord) in enumerate(zip(unique_addresses, coordinates)):\n",
    "    if coord == None:\n",
    "        coordinates[i] = imaginary_coords[place]\n",
    "print(coordinates)"
   ]
  },
  {
   "cell_type": "markdown",
   "id": "fde9f917-9fac-4d02-8ae5-a5254c17d6b3",
   "metadata": {},
   "source": [
    "# Assinging a coordinate to uptown"
   ]
  },
  {
   "cell_type": "code",
   "execution_count": 83,
   "id": "8e68e086-f4a6-4c35-9254-cd4296f8569d",
   "metadata": {},
   "outputs": [
    {
     "name": "stdout",
     "output_type": "stream",
     "text": [
      "(35.8160561, 51.4709472)\n"
     ]
    }
   ],
   "source": [
    "from geopy.geocoders import Nominatim\n",
    "uptown = get_coords(\"Niavaran\")\n",
    "print(uptown)"
   ]
  },
  {
   "cell_type": "markdown",
   "id": "7cd5afc5-3b65-46db-ba19-e390a0feb2ce",
   "metadata": {},
   "source": [
    "# Calculating the distance between each coordinate and uptown:"
   ]
  },
  {
   "cell_type": "code",
   "execution_count": 90,
   "id": "5464498f-cf33-4b06-b350-b98b5cf6e8e2",
   "metadata": {},
   "outputs": [
    {
     "name": "stdout",
     "output_type": "stream",
     "text": [
      "{'Shahran': 17, 'Pardis': 32, 'Shahrake Qods': 31, 'Shahrake Gharb': 17, 'North Program Organization': 6, 'Andisheh': 41, 'West Ferdows Boulevard': 20, 'Narmak': 9, 'Saadat Abad': 9, 'Zafar': 7, 'Islamshahr': 36, 'Pirouzi': 13, 'Shahrake Shahid Bagheri': 14, 'Moniriyeh': 16, 'Velenjak': 6, 'Amirieh': 45, 'Southern Janatabad': 25, 'Salsabil': 15, 'Zargandeh': 5, 'Feiz Garden': 26, 'Water Organization': 12, 'ShahrAra': 14, 'Gisha': 12, 'Ray': 24, 'Abbasabad': 28, 'Ostad Moein': 17, 'Farmanieh': 2, 'Parand': 60, 'Punak': 14, 'Qasr-od-Dasht': 26, 'Aqdasieh': 13, 'Pakdasht': 42, 'Railway': 28, 'Central Janatabad': 25, 'East Ferdows Boulevard': 18, 'Pakdasht KhatunAbad': 38, 'Sattarkhan': 14, 'Baghestan': 36, 'Shahryar': 5, 'Northern Janatabad': 22, 'Daryan No': 14, 'Southern Program Organization': 27, 'Rudhen': 8, 'West Pars': 16, 'Afsarieh': 18, 'Marzdaran': 14, 'Dorous': 25, 'Sadeghieh': 15, 'Chahardangeh': 27, 'Baqershahr': 31, 'Jeyhoon': 22, 'Lavizan': 7, 'Shams Abad': 7, 'Fatemi': 13, 'Keshavarz Boulevard': 13, 'Kahrizak': 34, 'Qarchak': 42, 'Northren Jamalzadeh': 9, 'Azarbaijan': 18, 'Bahar': 12, 'Persian Gulf Martyrs Lake': 24, 'Beryanak': 17, 'Heshmatieh': 10, 'Elm-o-Sanat': 8, 'Golestan': 42, 'Shahr-e-Ziba': 17, 'Pasdaran': 4, 'Chardivari': 25, 'Gheitarieh': 15, 'Kamranieh': 2, 'Gholhak': 5, 'Heravi': 4, 'Hashemi': 17, 'Dehkade Olampic': 23, 'Damavand': 55, 'Republic': 20, 'Zaferanieh': 5, 'Qazvin Imamzadeh Hassan': 27, 'Niavaran': 0, 'Valiasr': 13, 'Qalandari': 4, 'Amir Bahador': 17, 'Ekhtiarieh': 3, 'Ekbatan': 19, 'Absard': 65, 'Haft Tir': 11, 'Mahallati': 3, 'Ozgol': 3, 'Tajrish': 2, 'Abazar': 15, 'Koohsar': 8, 'Hekmat': 2, 'Parastar': 14, 'Lavasan': 14, 'Majidieh': 8, 'Southern Chitgar': 22, 'Karimkhan': 12, 'Si Metri Ji': 19, 'Karoon': 17, 'Northern Chitgar': 16, 'East Pars': 15, 'Kook': 4, 'Air force': 11, 'Sohanak': 15, 'Komeil': 17, 'Azadshahr': 16, 'Zibadasht': 20, 'Amirabad': 62, 'Dezashib': 1, 'Elahieh': 4, 'Mirdamad': 7, 'Razi': 5, 'Jordan': 6, 'Mahmoudieh': 14, 'Shahedshahr': 43, 'Yaftabad': 20, 'Mehran': 7, 'Nasim Shahr': 39, 'Tenant': 17, 'Chardangeh': 22, 'Fallah': 12, 'Eskandari': 16, 'Shahrakeh Naft': 18, 'Ajudaniye': 1, 'Tehransar': 23, 'Nawab': 19, 'Yousef Abad': 10, 'Northern Suhrawardi': 17, 'Villa': 20, 'Hakimiyeh': 18, 'Nezamabad': 10, 'Garden of Saba': 15, 'Tarasht': 15, 'Azari': 19, 'Shahrake Apadana': 16, 'Araj': 2, 'Vahidieh': 46, 'Malard': 47, 'Shahrake Azadi': 14, 'Darband': 3, 'Vanak': 8, 'Tehran Now': 14, 'Darabad': 5, 'Eram': 19, 'Atabak': 18, 'Sabalan': 10, 'SabaShahr': 41, 'Shahrake Madaen': 15, 'Waterfall': 25, 'Ahang': 16, 'Salehabad': 42, 'Pishva': 60, 'Enghelab': 8, 'Islamshahr Elahieh': 20, 'Ray - Montazeri': 19, 'Firoozkooh Kuhsar': 16, 'Ghoba': 5, 'Mehrabad': 41, 'Southern Suhrawardi': 23, 'Abuzar': 15, 'Dolatabad': 23, 'Hor Square': 15, 'Taslihat': 10, 'Kazemabad': 21, 'Robat Karim': 51, 'Ray - Pilgosh': 20, 'Ghiyamdasht': 18, 'Telecommunication': 10, 'Mirza Shirazi': 10, 'Gandhi': 8, 'Argentina': 17, 'Seyed Khandan': 8, 'Shahrake Quds': 15, 'Safadasht': 57, 'Khademabad Garden': 14, 'Hassan Abad': 15, 'Chidz': 13, 'Khavaran': 16, 'Boloorsazi': 11, 'Mehrabad River River': 10, 'Varamin - Beheshti': 9, 'Shoosh': 18, 'Thirteen November': 7, 'Darakeh': 8, 'Aliabad South': 6, 'Alborz Complex': 52, 'Firoozkooh': 5, 'Vahidiyeh': 5, 'Shadabad': 22, 'Naziabad': 4, 'Javadiyeh': 18, 'Yakhchiabad': 4}\n"
     ]
    }
   ],
   "source": [
    "dists = {}\n",
    "from geopy.distance import distance\n",
    "for place,coord in zip(unique_addresses, coordinates):\n",
    "    if isinstance(coord, tuple) and len(coord) == 2:\n",
    "        dist = distance(uptown, coord).km\n",
    "        dists[place] = int(dist)\n",
    "print(dists)"
   ]
  },
  {
   "cell_type": "markdown",
   "id": "f606dd2e-169d-4832-8625-3c61f14cac86",
   "metadata": {},
   "source": [
    "# Replacing all addresses with numerical data showing their distance from uptown"
   ]
  },
  {
   "cell_type": "code",
   "execution_count": 93,
   "id": "cf4795e4-47d9-4d58-a0db-cee6ee84c675",
   "metadata": {},
   "outputs": [
    {
     "name": "stdout",
     "output_type": "stream",
     "text": [
      "0       17\n",
      "1       17\n",
      "2       32\n",
      "3       31\n",
      "4       17\n",
      "        ..\n",
      "3442    25\n",
      "3443     0\n",
      "3444    60\n",
      "3445    25\n",
      "3446    60\n",
      "Name: Address, Length: 3447, dtype: object\n"
     ]
    }
   ],
   "source": [
    "for i in range(len(df)):\n",
    "    for place in dists:\n",
    "        if df.loc[i,\"Address\"] == place:\n",
    "            df.loc[i,\"Address\"] = dists[place]\n",
    "print(df[\"Address\"])"
   ]
  },
  {
   "cell_type": "markdown",
   "id": "0eeb3285-573b-4769-af9c-91d93b75b06c",
   "metadata": {},
   "source": [
    "# splitting the data"
   ]
  },
  {
   "cell_type": "code",
   "execution_count": 96,
   "id": "a680b1c0-3dab-440a-94f6-6a6c437e3a18",
   "metadata": {},
   "outputs": [],
   "source": [
    "msk = np.random.rand(len(df)) < 0.8\n",
    "train = df[msk]\n",
    "test = df[~msk]"
   ]
  },
  {
   "cell_type": "markdown",
   "id": "63c49dd9-24dc-406b-8475-3b020e4eb427",
   "metadata": {},
   "source": [
    "# Drawing some rudimentary graphs"
   ]
  },
  {
   "cell_type": "code",
   "execution_count": 114,
   "id": "02a7d3fb-bc1c-48c2-9870-f732d9b3ba75",
   "metadata": {},
   "outputs": [
    {
     "data": {
      "text/plain": [
       "<matplotlib.collections.PathCollection at 0x25112881f90>"
      ]
     },
     "execution_count": 114,
     "metadata": {},
     "output_type": "execute_result"
    },
    {
     "data": {
      "image/png": "[encoded data removed]",
      "text/plain": [
       "<Figure size 640x480 with 1 Axes>"
      ]
     },
     "metadata": {},
     "output_type": "display_data"
    }
   ],
   "source": [
    "plt.scatter(df[\"Parking\"], df[\"Price\"], color='blue')\n",
    "plt.scatter(df[\"Area\"], df[\"Price\"], color='black')\n",
    "plt.scatter(df[\"Room\"], df[\"Price\"], color='orange')"
   ]
  },
  {
   "cell_type": "code",
   "execution_count": 115,
   "id": "1448c735-26e6-421b-a44a-ade76f0ad77a",
   "metadata": {},
   "outputs": [
    {
     "data": {
      "text/plain": [
       "<matplotlib.collections.PathCollection at 0x251128f0690>"
      ]
     },
     "execution_count": 115,
     "metadata": {},
     "output_type": "execute_result"
    },
    {
     "data": {
      "image/png": "[encoded data removed]",
      "text/plain": [
       "<Figure size 640x480 with 1 Axes>"
      ]
     },
     "metadata": {},
     "output_type": "display_data"
    }
   ],
   "source": [
    "plt.scatter(df[\"Elevator\"], df[\"Price\"], color='pink')\n",
    "plt.scatter(df[\"Address\"], df[\"Price\"], color='purple')\n",
    "plt.scatter(df[\"Warehouse\"], df[\"Price\"], color='green')"
   ]
  },
  {
   "cell_type": "markdown",
   "id": "102c1620-57b6-46c7-a80f-0086304ec585",
   "metadata": {},
   "source": [
    "# Getting into the regression model"
   ]
  },
  {
   "cell_type": "code",
   "execution_count": 133,
   "id": "e3696ccc-bd80-4b4c-9f7c-187af4390e8c",
   "metadata": {},
   "outputs": [
    {
     "name": "stdout",
     "output_type": "stream",
     "text": [
      "the coefficient for Area is: 85117283.73501669\n",
      "the coefficient for Rooms is: 448726040.03947645\n",
      "the coefficient for Elevator is: 468854633.0359222\n",
      "the coefficient for Parking is: -833571573.780176\n",
      "the coefficient for Warehouse is: -21146212.723590508\n",
      "the coefficient for Address is: -155728643.59814155\n",
      "intercept is -1182680947.1947536\n",
      "Price = -1182680947.19 + (85117283.74 * Area) + (448726040.04 * Room) + (468854633.04 * Elevator) + (-833571573.78 * Parking) + (-21146212.72 * Warehouse) + (-155728643.60 * Address)\n"
     ]
    }
   ],
   "source": [
    "x_train = train[[\"Area\", \"Room\", \"Elevator\", \"Parking\", \"Warehouse\", \"Address\"]]\n",
    "y_train = train[\"Price\"]\n",
    "model = LinearRegression()\n",
    "model.fit(x_train, y_train)\n",
    "y_pred = model.predict(x_train)\n",
    "coefficients = model.coef_\n",
    "print(f\"the coefficient for Area is: {coefficients[0]}\")\n",
    "print(f\"the coefficient for Rooms is: {coefficients[1]}\")\n",
    "print(f\"the coefficient for Elevator is: {coefficients[2]}\")\n",
    "print(f\"the coefficient for Parking is: {coefficients[3]}\")\n",
    "print(f\"the coefficient for Warehouse is: {coefficients[4]}\")\n",
    "print(f\"the coefficient for Address is: {coefficients[5]}\")\n",
    "intercept = model.intercept_\n",
    "print(f\"intercept is {intercept}\")\n",
    "features = x_train.columns\n",
    "equation = f\"Price = {intercept:.2f}\"\n",
    "for coef, feature in zip(coefficients, features):\n",
    "    equation += f\" + ({coef:.2f} * {feature})\"\n",
    "\n",
    "print(equation)"
   ]
  },
  {
   "cell_type": "code",
   "execution_count": 120,
   "id": "fcb7c825-821f-4c8f-bfc8-6540982e3e94",
   "metadata": {},
   "outputs": [
    {
     "name": "stdout",
     "output_type": "stream",
     "text": [
      "True: 1850000000.0, Predicted: 1595183873.514523\n",
      "True: 550000000.0, Predicted: 1069856799.342143\n",
      "True: 902500000.0, Predicted: 2587461982.700553\n",
      "True: 2050000000.0, Predicted: 3883891346.242751\n",
      "True: 600000000.0, Predicted: 1750795069.2222767\n",
      "True: 493000000.0, Predicted: -2928487719.452471\n",
      "True: 2100000000.0, Predicted: 2926130306.034672\n",
      "True: 1690000000.0, Predicted: 2908529042.4646807\n",
      "True: 11000000000.0, Predicted: 9952026815.034826\n",
      "True: 570000000.0, Predicted: -998943414.1059132\n"
     ]
    }
   ],
   "source": [
    "for i in range(10):\n",
    "    print(f\"True: {y_train.iloc[i]}, Predicted: {y_pred[i]}\")\n"
   ]
  },
  {
   "cell_type": "code",
   "execution_count": 127,
   "id": "525bd9fb-9cd0-4b4e-9a16-65fd86af3da7",
   "metadata": {},
   "outputs": [
    {
     "name": "stdout",
     "output_type": "stream",
     "text": [
      "True: 1850000000.0, Predicted: 1400145441.9848242\n",
      "True: 7000000000.0, Predicted: 6845869281.66393\n",
      "True: 2150000000.0, Predicted: 1331201835.7917013\n",
      "True: 2370000000.0, Predicted: 1559956234.869357\n",
      "True: 2450000000.0, Predicted: 2455402065.802371\n",
      "True: 5000000000.0, Predicted: 6910677892.38921\n",
      "True: 1450000000.0, Predicted: 3433600423.24436\n",
      "True: 7150000000.0, Predicted: 7201068037.493894\n",
      "True: 4059000000.0, Predicted: 7643961115.317016\n",
      "True: 1500000000.0, Predicted: 4827088267.439006\n"
     ]
    }
   ],
   "source": [
    "x_test = test[[\"Area\", \"Room\", \"Elevator\", \"Parking\", \"Warehouse\", \"Address\"]]\n",
    "y_test = test[\"Price\"]\n",
    "model.fit(x_test, y_test)\n",
    "y_test_pred = model.predict(x_test)\n",
    "for i in range(10):\n",
    "    print(f\"True: {y_test.iloc[i]}, Predicted: {y_test_pred[i]}\")"
   ]
  },
  {
   "cell_type": "code",
   "execution_count": 128,
   "id": "ad747e1e-4af1-4130-8c63-7c2c956bd688",
   "metadata": {},
   "outputs": [
    {
     "name": "stdout",
     "output_type": "stream",
     "text": [
      "0.6469418121222745\n"
     ]
    }
   ],
   "source": [
    "from sklearn.metrics import r2_score\n",
    "r2 = r2_score(y_test, y_test_pred)\n",
    "print(r2)"
   ]
  },
  {
   "cell_type": "markdown",
   "id": "284ff33f-d1e1-464d-b784-054013ff39e8",
   "metadata": {},
   "source": [
    "# Let's ignore some data and try again:"
   ]
  },
  {
   "cell_type": "code",
   "execution_count": 125,
   "id": "3bd4aaea-a99a-43e9-93f5-fce577e750bc",
   "metadata": {},
   "outputs": [
    {
     "name": "stdout",
     "output_type": "stream",
     "text": [
      "the coefficient2 for Area is: 84844019.83890145\n",
      "the coefficient2 for Rooms is: 404312217.68479955\n",
      "the coefficient2 for Elevator is: 232322050.14726403\n",
      "the coefficient2 for Warehouse is: -373498830.3717992\n",
      "the coefficient2 for Address is: -153525063.53630263\n",
      "intercept2 is -1182680947.1947536\n"
     ]
    }
   ],
   "source": [
    "x_train2 = train[[\"Area\", \"Room\", \"Elevator\", \"Warehouse\", \"Address\"]]\n",
    "y_train2 = train[\"Price\"]\n",
    "model = LinearRegression()\n",
    "model.fit(x_train2, y_train2)\n",
    "y_pred2 = model.predict(x_train2)\n",
    "coefficients2 = model.coef_\n",
    "print(f\"the coefficient2 for Area is: {coefficients2[0]}\")\n",
    "print(f\"the coefficient2 for Rooms is: {coefficients2[1]}\")\n",
    "print(f\"the coefficient2 for Elevator is: {coefficients2[2]}\")\n",
    "print(f\"the coefficient2 for Warehouse is: {coefficients2[3]}\")\n",
    "print(f\"the coefficient2 for Address is: {coefficients2[4]}\")\n",
    "intercept2 = model.intercept_\n",
    "print(f\"intercept2 is {intercept}\")"
   ]
  },
  {
   "cell_type": "code",
   "execution_count": 126,
   "id": "212e9661-cab3-4f14-855a-a6ef57247c2f",
   "metadata": {},
   "outputs": [
    {
     "name": "stdout",
     "output_type": "stream",
     "text": [
      "True: 1850000000.0 , Predicted = 1694280561.0358095\n",
      "True: 550000000.0 , Predicted = 1153221143.0984926\n",
      "True: 902500000.0 , Predicted = 2664250524.0572186\n",
      "True: 2050000000.0 , Predicted = 4148954566.344984\n",
      "True: 600000000.0 , Predicted = 1831973301.8097038\n",
      "True: 493000000.0 , Predicted = -2581926974.848032\n",
      "True: 2100000000.0 , Predicted = 3007325089.1651325\n",
      "True: 1690000000.0 , Predicted = 2158884890.776118\n",
      "True: 11000000000.0 , Predicted = 9924718952.935637\n",
      "True: 570000000.0 , Predicted = -1455017696.3012047\n"
     ]
    }
   ],
   "source": [
    "for i in range(10):\n",
    "    print(f\"True: {y_train2.iloc[i]} , Predicted = {y_pred2[i]}\")"
   ]
  },
  {
   "cell_type": "code",
   "execution_count": 130,
   "id": "9a9e22bf-b0c8-48df-9e99-3e69a9177523",
   "metadata": {},
   "outputs": [
    {
     "name": "stdout",
     "output_type": "stream",
     "text": [
      "True: 1850000000.0, Predicted: 1496105337.5446806\n",
      "True: 7000000000.0, Predicted: 6885113958.481762\n",
      "True: 2150000000.0, Predicted: 1427532011.7580462\n",
      "True: 2370000000.0, Predicted: 1650425585.3016171\n",
      "True: 2450000000.0, Predicted: 2513594704.3208184\n",
      "True: 5000000000.0, Predicted: 6965015289.442809\n",
      "True: 1450000000.0, Predicted: 3031611010.864365\n",
      "True: 7150000000.0, Predicted: 7250757656.711793\n",
      "True: 4059000000.0, Predicted: 7685095739.676487\n",
      "True: 1500000000.0, Predicted: 4414526590.7195\n"
     ]
    }
   ],
   "source": [
    "x_test2 = test[[\"Area\", \"Room\", \"Elevator\", \"Warehouse\", \"Address\"]]\n",
    "y_test2 = test[\"Price\"]\n",
    "model.fit(x_test2, y_test2)\n",
    "y_test_pred2 = model.predict(x_test2)\n",
    "for i in range(10):\n",
    "    print(f\"True: {y_test2.iloc[i]}, Predicted: {y_test_pred2[i]}\")"
   ]
  },
  {
   "cell_type": "code",
   "execution_count": 131,
   "id": "d6f18f89-67e6-43d0-9925-a0e5c8b628b2",
   "metadata": {},
   "outputs": [
    {
     "name": "stdout",
     "output_type": "stream",
     "text": [
      "0.6462290345211745\n"
     ]
    }
   ],
   "source": [
    "from sklearn.metrics import r2_score\n",
    "r22 = r2_score(y_test2, y_test_pred2)\n",
    "print(r22)"
   ]
  },
  {
   "cell_type": "markdown",
   "id": "5c68d37f-7ae5-49d3-b868-4365f3525372",
   "metadata": {},
   "source": [
    "# So, the original model was better :)"
   ]
  }
 ],
 "metadata": {
  "kernelspec": {
   "display_name": "Python 3 (ipykernel)",
   "language": "python",
   "name": "python3"
  },
  "language_info": {
   "codemirror_mode": {
    "name": "ipython",
    "version": 3
   },
   "file_extension": ".py",
   "mimetype": "text/x-python",
   "name": "python",
   "nbconvert_exporter": "python",
   "pygments_lexer": "ipython3",
   "version": "3.13.3"
  }
 },
 "nbformat": 4,
 "nbformat_minor": 5
}
