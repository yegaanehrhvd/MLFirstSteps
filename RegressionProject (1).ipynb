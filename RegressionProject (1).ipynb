{
 "cells": [
  {
   "cell_type": "code",
   "execution_count": 1,
   "id": "ffe4c499-619f-44da-b63a-a7856153630e",
   "metadata": {},
   "outputs": [],
   "source": [
    "import matplotlib.pyplot as plt\n",
    "import pandas as pd\n",
    "import numpy as np\n",
    "import pylab as pb\n",
    "from sklearn.linear_model import LinearRegression\n",
    "from sklearn.model_selection import train_test_split\n",
    "from sklearn.preprocessing import LabelEncoder \n",
    "from sklearn.metrics import mean_squared_error "
   ]
  },
  {
   "cell_type": "code",
   "execution_count": 2,
   "id": "a5f1179d-e297-455a-b356-a832038f5947",
   "metadata": {},
   "outputs": [
    {
     "data": {
      "text/html": [
       "<div>\n",
       "<style scoped>\n",
       "    .dataframe tbody tr th:only-of-type {\n",
       "        vertical-align: middle;\n",
       "    }\n",
       "\n",
       "    .dataframe tbody tr th {\n",
       "        vertical-align: top;\n",
       "    }\n",
       "\n",
       "    .dataframe thead th {\n",
       "        text-align: right;\n",
       "    }\n",
       "</style>\n",
       "<table border=\"1\" class=\"dataframe\">\n",
       "  <thead>\n",
       "    <tr style=\"text-align: right;\">\n",
       "      <th></th>\n",
       "      <th>Room</th>\n",
       "      <th>Price</th>\n",
       "      <th>Price(USD)</th>\n",
       "    </tr>\n",
       "  </thead>\n",
       "  <tbody>\n",
       "    <tr>\n",
       "      <th>count</th>\n",
       "      <td>3479.000000</td>\n",
       "      <td>3.479000e+03</td>\n",
       "      <td>3.479000e+03</td>\n",
       "    </tr>\n",
       "    <tr>\n",
       "      <th>mean</th>\n",
       "      <td>2.079908</td>\n",
       "      <td>5.359023e+09</td>\n",
       "      <td>1.786341e+05</td>\n",
       "    </tr>\n",
       "    <tr>\n",
       "      <th>std</th>\n",
       "      <td>0.758275</td>\n",
       "      <td>8.099935e+09</td>\n",
       "      <td>2.699978e+05</td>\n",
       "    </tr>\n",
       "    <tr>\n",
       "      <th>min</th>\n",
       "      <td>0.000000</td>\n",
       "      <td>3.600000e+06</td>\n",
       "      <td>1.200000e+02</td>\n",
       "    </tr>\n",
       "    <tr>\n",
       "      <th>25%</th>\n",
       "      <td>2.000000</td>\n",
       "      <td>1.418250e+09</td>\n",
       "      <td>4.727500e+04</td>\n",
       "    </tr>\n",
       "    <tr>\n",
       "      <th>50%</th>\n",
       "      <td>2.000000</td>\n",
       "      <td>2.900000e+09</td>\n",
       "      <td>9.666667e+04</td>\n",
       "    </tr>\n",
       "    <tr>\n",
       "      <th>75%</th>\n",
       "      <td>2.000000</td>\n",
       "      <td>6.000000e+09</td>\n",
       "      <td>2.000000e+05</td>\n",
       "    </tr>\n",
       "    <tr>\n",
       "      <th>max</th>\n",
       "      <td>5.000000</td>\n",
       "      <td>9.240000e+10</td>\n",
       "      <td>3.080000e+06</td>\n",
       "    </tr>\n",
       "  </tbody>\n",
       "</table>\n",
       "</div>"
      ],
      "text/plain": [
       "              Room         Price    Price(USD)\n",
       "count  3479.000000  3.479000e+03  3.479000e+03\n",
       "mean      2.079908  5.359023e+09  1.786341e+05\n",
       "std       0.758275  8.099935e+09  2.699978e+05\n",
       "min       0.000000  3.600000e+06  1.200000e+02\n",
       "25%       2.000000  1.418250e+09  4.727500e+04\n",
       "50%       2.000000  2.900000e+09  9.666667e+04\n",
       "75%       2.000000  6.000000e+09  2.000000e+05\n",
       "max       5.000000  9.240000e+10  3.080000e+06"
      ]
     },
     "execution_count": 2,
     "metadata": {},
     "output_type": "execute_result"
    }
   ],
   "source": [
    "df = pd.read_csv(r\"C:\\Users\\h.rahnavard\\Downloads\\1632300362534233.csv\")\n",
    "df.describe()"
   ]
  },
  {
   "cell_type": "code",
   "execution_count": 3,
   "id": "190c1bcb-819d-4c75-9f3e-bb1cc633363d",
   "metadata": {},
   "outputs": [
    {
     "data": {
      "text/plain": [
       "array([[<Axes: title={'center': 'Room'}>,\n",
       "        <Axes: title={'center': 'Price'}>],\n",
       "       [<Axes: title={'center': 'Price(USD)'}>, <Axes: >]], dtype=object)"
      ]
     },
     "execution_count": 3,
     "metadata": {},
     "output_type": "execute_result"
    },
    {
     "data": {
      "image/png": "[encoded data removed]",
      "text/plain": [
       "<Figure size 640x480 with 4 Axes>"
      ]
     },
     "metadata": {},
     "output_type": "display_data"
    }
   ],
   "source": [
    "df.hist()"
   ]
  },
  {
   "cell_type": "markdown",
   "id": "0cd85fbf-0cce-465f-aeaf-dd1bf33aa875",
   "metadata": {},
   "source": [
    "# assinging numerical values to the state of parkings, warehouses and elevators"
   ]
  },
  {
   "cell_type": "code",
   "execution_count": 4,
   "id": "aad60e6a-8944-4f3d-972a-cddf9a87779f",
   "metadata": {},
   "outputs": [
    {
     "data": {
      "text/html": [
       "<div>\n",
       "<style scoped>\n",
       "    .dataframe tbody tr th:only-of-type {\n",
       "        vertical-align: middle;\n",
       "    }\n",
       "\n",
       "    .dataframe tbody tr th {\n",
       "        vertical-align: top;\n",
       "    }\n",
       "\n",
       "    .dataframe thead th {\n",
       "        text-align: right;\n",
       "    }\n",
       "</style>\n",
       "<table border=\"1\" class=\"dataframe\">\n",
       "  <thead>\n",
       "    <tr style=\"text-align: right;\">\n",
       "      <th></th>\n",
       "      <th>Room</th>\n",
       "      <th>Parking</th>\n",
       "      <th>Warehouse</th>\n",
       "      <th>Elevator</th>\n",
       "      <th>Price</th>\n",
       "      <th>Price(USD)</th>\n",
       "    </tr>\n",
       "  </thead>\n",
       "  <tbody>\n",
       "    <tr>\n",
       "      <th>count</th>\n",
       "      <td>3479.000000</td>\n",
       "      <td>3479.000000</td>\n",
       "      <td>3479.000000</td>\n",
       "      <td>3479.000000</td>\n",
       "      <td>3.479000e+03</td>\n",
       "      <td>3.479000e+03</td>\n",
       "    </tr>\n",
       "    <tr>\n",
       "      <th>mean</th>\n",
       "      <td>2.079908</td>\n",
       "      <td>0.847945</td>\n",
       "      <td>0.914631</td>\n",
       "      <td>0.787295</td>\n",
       "      <td>5.359023e+09</td>\n",
       "      <td>1.786341e+05</td>\n",
       "    </tr>\n",
       "    <tr>\n",
       "      <th>std</th>\n",
       "      <td>0.758275</td>\n",
       "      <td>0.359126</td>\n",
       "      <td>0.279471</td>\n",
       "      <td>0.409279</td>\n",
       "      <td>8.099935e+09</td>\n",
       "      <td>2.699978e+05</td>\n",
       "    </tr>\n",
       "    <tr>\n",
       "      <th>min</th>\n",
       "      <td>0.000000</td>\n",
       "      <td>0.000000</td>\n",
       "      <td>0.000000</td>\n",
       "      <td>0.000000</td>\n",
       "      <td>3.600000e+06</td>\n",
       "      <td>1.200000e+02</td>\n",
       "    </tr>\n",
       "    <tr>\n",
       "      <th>25%</th>\n",
       "      <td>2.000000</td>\n",
       "      <td>1.000000</td>\n",
       "      <td>1.000000</td>\n",
       "      <td>1.000000</td>\n",
       "      <td>1.418250e+09</td>\n",
       "      <td>4.727500e+04</td>\n",
       "    </tr>\n",
       "    <tr>\n",
       "      <th>50%</th>\n",
       "      <td>2.000000</td>\n",
       "      <td>1.000000</td>\n",
       "      <td>1.000000</td>\n",
       "      <td>1.000000</td>\n",
       "      <td>2.900000e+09</td>\n",
       "      <td>9.666667e+04</td>\n",
       "    </tr>\n",
       "    <tr>\n",
       "      <th>75%</th>\n",
       "      <td>2.000000</td>\n",
       "      <td>1.000000</td>\n",
       "      <td>1.000000</td>\n",
       "      <td>1.000000</td>\n",
       "      <td>6.000000e+09</td>\n",
       "      <td>2.000000e+05</td>\n",
       "    </tr>\n",
       "    <tr>\n",
       "      <th>max</th>\n",
       "      <td>5.000000</td>\n",
       "      <td>1.000000</td>\n",
       "      <td>1.000000</td>\n",
       "      <td>1.000000</td>\n",
       "      <td>9.240000e+10</td>\n",
       "      <td>3.080000e+06</td>\n",
       "    </tr>\n",
       "  </tbody>\n",
       "</table>\n",
       "</div>"
      ],
      "text/plain": [
       "              Room      Parking    Warehouse     Elevator         Price  \\\n",
       "count  3479.000000  3479.000000  3479.000000  3479.000000  3.479000e+03   \n",
       "mean      2.079908     0.847945     0.914631     0.787295  5.359023e+09   \n",
       "std       0.758275     0.359126     0.279471     0.409279  8.099935e+09   \n",
       "min       0.000000     0.000000     0.000000     0.000000  3.600000e+06   \n",
       "25%       2.000000     1.000000     1.000000     1.000000  1.418250e+09   \n",
       "50%       2.000000     1.000000     1.000000     1.000000  2.900000e+09   \n",
       "75%       2.000000     1.000000     1.000000     1.000000  6.000000e+09   \n",
       "max       5.000000     1.000000     1.000000     1.000000  9.240000e+10   \n",
       "\n",
       "         Price(USD)  \n",
       "count  3.479000e+03  \n",
       "mean   1.786341e+05  \n",
       "std    2.699978e+05  \n",
       "min    1.200000e+02  \n",
       "25%    4.727500e+04  \n",
       "50%    9.666667e+04  \n",
       "75%    2.000000e+05  \n",
       "max    3.080000e+06  "
      ]
     },
     "execution_count": 4,
     "metadata": {},
     "output_type": "execute_result"
    }
   ],
   "source": [
    "le = LabelEncoder()\n",
    "df[\"Parking\"] = le.fit_transform(df[\"Parking\"])\n",
    "df[\"Warehouse\"] = le.fit_transform(df[\"Warehouse\"])\n",
    "df[\"Elevator\"] = le.fit_transform(df[\"Elevator\"])\n",
    "df.describe()"
   ]
  },
  {
   "cell_type": "markdown",
   "id": "dabf860a-6a98-4eb8-a192-1a4b4ed9625a",
   "metadata": {},
   "source": [
    "# Deleting rows with no addresses"
   ]
  },
  {
   "cell_type": "code",
   "execution_count": 5,
   "id": "79781311-55ca-40b2-9de3-606e3adabc2f",
   "metadata": {},
   "outputs": [
    {
     "data": {
      "text/html": [
       "<div>\n",
       "<style scoped>\n",
       "    .dataframe tbody tr th:only-of-type {\n",
       "        vertical-align: middle;\n",
       "    }\n",
       "\n",
       "    .dataframe tbody tr th {\n",
       "        vertical-align: top;\n",
       "    }\n",
       "\n",
       "    .dataframe thead th {\n",
       "        text-align: right;\n",
       "    }\n",
       "</style>\n",
       "<table border=\"1\" class=\"dataframe\">\n",
       "  <thead>\n",
       "    <tr style=\"text-align: right;\">\n",
       "      <th></th>\n",
       "      <th>Room</th>\n",
       "      <th>Parking</th>\n",
       "      <th>Warehouse</th>\n",
       "      <th>Elevator</th>\n",
       "      <th>Price</th>\n",
       "      <th>Price(USD)</th>\n",
       "    </tr>\n",
       "  </thead>\n",
       "  <tbody>\n",
       "    <tr>\n",
       "      <th>count</th>\n",
       "      <td>3456.000000</td>\n",
       "      <td>3456.000000</td>\n",
       "      <td>3456.000000</td>\n",
       "      <td>3456.000000</td>\n",
       "      <td>3.456000e+03</td>\n",
       "      <td>3.456000e+03</td>\n",
       "    </tr>\n",
       "    <tr>\n",
       "      <th>mean</th>\n",
       "      <td>2.081308</td>\n",
       "      <td>0.847512</td>\n",
       "      <td>0.914931</td>\n",
       "      <td>0.787326</td>\n",
       "      <td>5.379957e+09</td>\n",
       "      <td>1.793319e+05</td>\n",
       "    </tr>\n",
       "    <tr>\n",
       "      <th>std</th>\n",
       "      <td>0.759723</td>\n",
       "      <td>0.359546</td>\n",
       "      <td>0.279025</td>\n",
       "      <td>0.409258</td>\n",
       "      <td>8.121729e+09</td>\n",
       "      <td>2.707243e+05</td>\n",
       "    </tr>\n",
       "    <tr>\n",
       "      <th>min</th>\n",
       "      <td>0.000000</td>\n",
       "      <td>0.000000</td>\n",
       "      <td>0.000000</td>\n",
       "      <td>0.000000</td>\n",
       "      <td>3.600000e+06</td>\n",
       "      <td>1.200000e+02</td>\n",
       "    </tr>\n",
       "    <tr>\n",
       "      <th>25%</th>\n",
       "      <td>2.000000</td>\n",
       "      <td>1.000000</td>\n",
       "      <td>1.000000</td>\n",
       "      <td>1.000000</td>\n",
       "      <td>1.420000e+09</td>\n",
       "      <td>4.733333e+04</td>\n",
       "    </tr>\n",
       "    <tr>\n",
       "      <th>50%</th>\n",
       "      <td>2.000000</td>\n",
       "      <td>1.000000</td>\n",
       "      <td>1.000000</td>\n",
       "      <td>1.000000</td>\n",
       "      <td>2.900000e+09</td>\n",
       "      <td>9.666667e+04</td>\n",
       "    </tr>\n",
       "    <tr>\n",
       "      <th>75%</th>\n",
       "      <td>2.000000</td>\n",
       "      <td>1.000000</td>\n",
       "      <td>1.000000</td>\n",
       "      <td>1.000000</td>\n",
       "      <td>6.000000e+09</td>\n",
       "      <td>2.000000e+05</td>\n",
       "    </tr>\n",
       "    <tr>\n",
       "      <th>max</th>\n",
       "      <td>5.000000</td>\n",
       "      <td>1.000000</td>\n",
       "      <td>1.000000</td>\n",
       "      <td>1.000000</td>\n",
       "      <td>9.240000e+10</td>\n",
       "      <td>3.080000e+06</td>\n",
       "    </tr>\n",
       "  </tbody>\n",
       "</table>\n",
       "</div>"
      ],
      "text/plain": [
       "              Room      Parking    Warehouse     Elevator         Price  \\\n",
       "count  3456.000000  3456.000000  3456.000000  3456.000000  3.456000e+03   \n",
       "mean      2.081308     0.847512     0.914931     0.787326  5.379957e+09   \n",
       "std       0.759723     0.359546     0.279025     0.409258  8.121729e+09   \n",
       "min       0.000000     0.000000     0.000000     0.000000  3.600000e+06   \n",
       "25%       2.000000     1.000000     1.000000     1.000000  1.420000e+09   \n",
       "50%       2.000000     1.000000     1.000000     1.000000  2.900000e+09   \n",
       "75%       2.000000     1.000000     1.000000     1.000000  6.000000e+09   \n",
       "max       5.000000     1.000000     1.000000     1.000000  9.240000e+10   \n",
       "\n",
       "         Price(USD)  \n",
       "count  3.456000e+03  \n",
       "mean   1.793319e+05  \n",
       "std    2.707243e+05  \n",
       "min    1.200000e+02  \n",
       "25%    4.733333e+04  \n",
       "50%    9.666667e+04  \n",
       "75%    2.000000e+05  \n",
       "max    3.080000e+06  "
      ]
     },
     "execution_count": 5,
     "metadata": {},
     "output_type": "execute_result"
    }
   ],
   "source": [
    "bad_indexes = []\n",
    "for i in range(len(df)):\n",
    "    address = df.loc[i, \"Address\"]\n",
    "    if address == \"\" or address is None or address is np.nan or str(address).strip() == 'nan':\n",
    "        bad_indexes.append(i)\n",
    "df = df.drop(bad_indexes).reset_index(drop=True)\n",
    "df.describe()"
   ]
  },
  {
   "cell_type": "markdown",
   "id": "8edb810b-a3bf-4223-b60f-75b99414a18c",
   "metadata": {},
   "source": [
    "# there can be no houses with an area that's greater than 100000 but we also have to find out the maximum area for houses with valid area entries, which, after taking a cursory look, did not go higher than 750. Cheking here: "
   ]
  },
  {
   "cell_type": "code",
   "execution_count": 6,
   "id": "537ff564-285a-44fe-af1a-2ba85556014f",
   "metadata": {},
   "outputs": [
    {
     "name": "stdout",
     "output_type": "stream",
     "text": [
      "16160000000\n",
      "30\n",
      "8802191.396122685\n",
      "int64\n"
     ]
    },
    {
     "data": {
      "text/plain": [
       "0       False\n",
       "1       False\n",
       "2       False\n",
       "3       False\n",
       "4       False\n",
       "        ...  \n",
       "3451    False\n",
       "3452    False\n",
       "3453    False\n",
       "3454    False\n",
       "3455    False\n",
       "Name: Area, Length: 3456, dtype: bool"
      ]
     },
     "execution_count": 6,
     "metadata": {},
     "output_type": "execute_result"
    }
   ],
   "source": [
    "for i in range(len(df)):\n",
    "    rawvalue = df.loc[i,\"Area\"]\n",
    "    converted = str(rawvalue).replace(\",\" , \"\").strip()\n",
    "    df.loc[i,\"Area\"] = int(converted)\n",
    "df[\"Area\"] = pd.to_numeric(df[\"Area\"])\n",
    "df[\"Area\"].describe()\n",
    "print(df[\"Area\"].max())\n",
    "print(df[\"Area\"].min())\n",
    "print(df[\"Area\"].mean())\n",
    "print(df[\"Area\"].dtype)\n",
    "(df[\"Area\"] > 800) & (df[\"Area\"] < 100000).any()"
   ]
  },
  {
   "cell_type": "markdown",
   "id": "74878fdf-ed4c-47d3-80be-e63fd85f23a2",
   "metadata": {},
   "source": [
    "# Deleting rows with invalid area entries:"
   ]
  },
  {
   "cell_type": "code",
   "execution_count": 7,
   "id": "d73ab2b9-3f77-4dec-b0bd-a58ee82bc121",
   "metadata": {},
   "outputs": [
    {
     "data": {
      "text/html": [
       "<div>\n",
       "<style scoped>\n",
       "    .dataframe tbody tr th:only-of-type {\n",
       "        vertical-align: middle;\n",
       "    }\n",
       "\n",
       "    .dataframe tbody tr th {\n",
       "        vertical-align: top;\n",
       "    }\n",
       "\n",
       "    .dataframe thead th {\n",
       "        text-align: right;\n",
       "    }\n",
       "</style>\n",
       "<table border=\"1\" class=\"dataframe\">\n",
       "  <thead>\n",
       "    <tr style=\"text-align: right;\">\n",
       "      <th></th>\n",
       "      <th>Area</th>\n",
       "      <th>Room</th>\n",
       "      <th>Parking</th>\n",
       "      <th>Warehouse</th>\n",
       "      <th>Elevator</th>\n",
       "      <th>Price</th>\n",
       "      <th>Price(USD)</th>\n",
       "    </tr>\n",
       "  </thead>\n",
       "  <tbody>\n",
       "    <tr>\n",
       "      <th>count</th>\n",
       "      <td>3447.000000</td>\n",
       "      <td>3447.000000</td>\n",
       "      <td>3447.000000</td>\n",
       "      <td>3447.000000</td>\n",
       "      <td>3447.000000</td>\n",
       "      <td>3.447000e+03</td>\n",
       "      <td>3.447000e+03</td>\n",
       "    </tr>\n",
       "    <tr>\n",
       "      <th>mean</th>\n",
       "      <td>106.229475</td>\n",
       "      <td>2.080070</td>\n",
       "      <td>0.847404</td>\n",
       "      <td>0.914999</td>\n",
       "      <td>0.787932</td>\n",
       "      <td>5.352295e+09</td>\n",
       "      <td>1.784098e+05</td>\n",
       "    </tr>\n",
       "    <tr>\n",
       "      <th>std</th>\n",
       "      <td>65.548021</td>\n",
       "      <td>0.758756</td>\n",
       "      <td>0.359650</td>\n",
       "      <td>0.278924</td>\n",
       "      <td>0.408832</td>\n",
       "      <td>8.029127e+09</td>\n",
       "      <td>2.676376e+05</td>\n",
       "    </tr>\n",
       "    <tr>\n",
       "      <th>min</th>\n",
       "      <td>30.000000</td>\n",
       "      <td>0.000000</td>\n",
       "      <td>0.000000</td>\n",
       "      <td>0.000000</td>\n",
       "      <td>0.000000</td>\n",
       "      <td>3.600000e+06</td>\n",
       "      <td>1.200000e+02</td>\n",
       "    </tr>\n",
       "    <tr>\n",
       "      <th>25%</th>\n",
       "      <td>69.000000</td>\n",
       "      <td>2.000000</td>\n",
       "      <td>1.000000</td>\n",
       "      <td>1.000000</td>\n",
       "      <td>1.000000</td>\n",
       "      <td>1.418250e+09</td>\n",
       "      <td>4.727500e+04</td>\n",
       "    </tr>\n",
       "    <tr>\n",
       "      <th>50%</th>\n",
       "      <td>90.000000</td>\n",
       "      <td>2.000000</td>\n",
       "      <td>1.000000</td>\n",
       "      <td>1.000000</td>\n",
       "      <td>1.000000</td>\n",
       "      <td>2.900000e+09</td>\n",
       "      <td>9.666667e+04</td>\n",
       "    </tr>\n",
       "    <tr>\n",
       "      <th>75%</th>\n",
       "      <td>120.000000</td>\n",
       "      <td>2.000000</td>\n",
       "      <td>1.000000</td>\n",
       "      <td>1.000000</td>\n",
       "      <td>1.000000</td>\n",
       "      <td>6.000000e+09</td>\n",
       "      <td>2.000000e+05</td>\n",
       "    </tr>\n",
       "    <tr>\n",
       "      <th>max</th>\n",
       "      <td>750.000000</td>\n",
       "      <td>5.000000</td>\n",
       "      <td>1.000000</td>\n",
       "      <td>1.000000</td>\n",
       "      <td>1.000000</td>\n",
       "      <td>9.240000e+10</td>\n",
       "      <td>3.080000e+06</td>\n",
       "    </tr>\n",
       "  </tbody>\n",
       "</table>\n",
       "</div>"
      ],
      "text/plain": [
       "              Area         Room      Parking    Warehouse     Elevator  \\\n",
       "count  3447.000000  3447.000000  3447.000000  3447.000000  3447.000000   \n",
       "mean    106.229475     2.080070     0.847404     0.914999     0.787932   \n",
       "std      65.548021     0.758756     0.359650     0.278924     0.408832   \n",
       "min      30.000000     0.000000     0.000000     0.000000     0.000000   \n",
       "25%      69.000000     2.000000     1.000000     1.000000     1.000000   \n",
       "50%      90.000000     2.000000     1.000000     1.000000     1.000000   \n",
       "75%     120.000000     2.000000     1.000000     1.000000     1.000000   \n",
       "max     750.000000     5.000000     1.000000     1.000000     1.000000   \n",
       "\n",
       "              Price    Price(USD)  \n",
       "count  3.447000e+03  3.447000e+03  \n",
       "mean   5.352295e+09  1.784098e+05  \n",
       "std    8.029127e+09  2.676376e+05  \n",
       "min    3.600000e+06  1.200000e+02  \n",
       "25%    1.418250e+09  4.727500e+04  \n",
       "50%    2.900000e+09  9.666667e+04  \n",
       "75%    6.000000e+09  2.000000e+05  \n",
       "max    9.240000e+10  3.080000e+06  "
      ]
     },
     "execution_count": 7,
     "metadata": {},
     "output_type": "execute_result"
    }
   ],
   "source": [
    "wrong_areas = []\n",
    "for i in range(len(df)):\n",
    "    if df.loc[i,\"Area\"] > 800:\n",
    "        wrong_areas.append(i)\n",
    "df = df.drop(wrong_areas).reset_index(drop=True)\n",
    "df.describe()"
   ]
  },
  {
   "cell_type": "markdown",
   "id": "8855d871-955e-4ea4-ad68-8ec807f24a5c",
   "metadata": {},
   "source": [
    "# In an attempt to assign numerical values to addresses, first we ignore repetitions "
   ]
  },
  {
   "cell_type": "code",
   "execution_count": 8,
   "id": "945255b9-f05a-4f4a-a9ae-955e1fc29648",
   "metadata": {},
   "outputs": [
    {
     "name": "stdout",
     "output_type": "stream",
     "text": [
      "['Shahran', 'Pardis', 'Shahrake Qods', 'Shahrake Gharb', 'North Program Organization', 'Andisheh', 'West Ferdows Boulevard', 'Narmak', 'Saadat Abad', 'Zafar', 'Islamshahr', 'Pirouzi', 'Shahrake Shahid Bagheri', 'Moniriyeh', 'Velenjak', 'Amirieh', 'Southern Janatabad', 'Salsabil', 'Zargandeh', 'Feiz Garden', 'Water Organization', 'ShahrAra', 'Gisha', 'Ray', 'Abbasabad', 'Ostad Moein', 'Farmanieh', 'Parand', 'Punak', 'Qasr-od-Dasht', 'Aqdasieh', 'Pakdasht', 'Railway', 'Central Janatabad', 'East Ferdows Boulevard', 'Pakdasht KhatunAbad', 'Sattarkhan', 'Baghestan', 'Shahryar', 'Northern Janatabad', 'Daryan No', 'Southern Program Organization', 'Rudhen', 'West Pars', 'Afsarieh', 'Marzdaran', 'Dorous', 'Sadeghieh', 'Chahardangeh', 'Baqershahr', 'Jeyhoon', 'Lavizan', 'Shams Abad', 'Fatemi', 'Keshavarz Boulevard', 'Kahrizak', 'Qarchak', 'Northren Jamalzadeh', 'Azarbaijan', 'Bahar', 'Persian Gulf Martyrs Lake', 'Beryanak', 'Heshmatieh', 'Elm-o-Sanat', 'Golestan', 'Shahr-e-Ziba', 'Pasdaran', 'Chardivari', 'Gheitarieh', 'Kamranieh', 'Gholhak', 'Heravi', 'Hashemi', 'Dehkade Olampic', 'Damavand', 'Republic', 'Zaferanieh', 'Qazvin Imamzadeh Hassan', 'Niavaran', 'Valiasr', 'Qalandari', 'Amir Bahador', 'Ekhtiarieh', 'Ekbatan', 'Absard', 'Haft Tir', 'Mahallati', 'Ozgol', 'Tajrish', 'Abazar', 'Koohsar', 'Hekmat', 'Parastar', 'Lavasan', 'Majidieh', 'Southern Chitgar', 'Karimkhan', 'Si Metri Ji', 'Karoon', 'Northern Chitgar', 'East Pars', 'Kook', 'Air force', 'Sohanak', 'Komeil', 'Azadshahr', 'Zibadasht', 'Amirabad', 'Dezashib', 'Elahieh', 'Mirdamad', 'Razi', 'Jordan', 'Mahmoudieh', 'Shahedshahr', 'Yaftabad', 'Mehran', 'Nasim Shahr', 'Tenant', 'Chardangeh', 'Fallah', 'Eskandari', 'Shahrakeh Naft', 'Ajudaniye', 'Tehransar', 'Nawab', 'Yousef Abad', 'Northern Suhrawardi', 'Villa', 'Hakimiyeh', 'Nezamabad', 'Garden of Saba', 'Tarasht', 'Azari', 'Shahrake Apadana', 'Araj', 'Vahidieh', 'Malard', 'Shahrake Azadi', 'Darband', 'Vanak', 'Tehran Now', 'Darabad', 'Eram', 'Atabak', 'Sabalan', 'SabaShahr', 'Shahrake Madaen', 'Waterfall', 'Ahang', 'Salehabad', 'Pishva', 'Enghelab', 'Islamshahr Elahieh', 'Ray - Montazeri', 'Firoozkooh Kuhsar', 'Ghoba', 'Mehrabad', 'Southern Suhrawardi', 'Abuzar', 'Dolatabad', 'Hor Square', 'Taslihat', 'Kazemabad', 'Robat Karim', 'Ray - Pilgosh', 'Ghiyamdasht', 'Telecommunication', 'Mirza Shirazi', 'Gandhi', 'Argentina', 'Seyed Khandan', 'Shahrake Quds', 'Safadasht', 'Khademabad Garden', 'Hassan Abad', 'Chidz', 'Khavaran', 'Boloorsazi', 'Mehrabad River River', 'Varamin - Beheshti', 'Shoosh', 'Thirteen November', 'Darakeh', 'Aliabad South', 'Alborz Complex', 'Firoozkooh', 'Vahidiyeh', 'Shadabad', 'Naziabad', 'Javadiyeh', 'Yakhchiabad']\n"
     ]
    }
   ],
   "source": [
    "unique_addresses = df[\"Address\"].drop_duplicates()\n",
    "print(list(unique_addresses))"
   ]
  },
  {
   "cell_type": "markdown",
   "id": "d58bc740-4a21-4b74-bc67-d783d1384f9d",
   "metadata": {},
   "source": [
    "# Trying to calculate each places's coordinate to be able to calculate the distance between them and uptown, assinging the distance as numerical values later on.\n",
    "از اونجایی که ران کردن دوباره‌ی این بلوک کد به تایم‌اوت ارور خورد، از دیتاهای به دست اومده توی ران قبلی همین بلوک به عنوان دیتاست موقعیت استفاده کردم"
   ]
  },
  {
   "cell_type": "markdown",
   "id": "65047ef2-68ec-4a1c-a8a5-fa34ad2865bb",
   "metadata": {},
   "source": [
    "import time\n",
    "from geopy.geocoders import Nominatim\n",
    "geolocater = Nominatim(user_agent = 'me')\n",
    "def get_coords(place):\n",
    "    location = geolocater.geocode(f\"{place}, Tehran, Iran\")\n",
    "    if location:\n",
    "        return (location.latitude, location.longitude)\n",
    "    else:\n",
    "        return None\n",
    "\n",
    "coordinates = []\n",
    "for i in unique_addresses:\n",
    "    place = i\n",
    "    coord = get_coords(place)\n",
    "    coordinates.append(coord)\n",
    "    time.sleep(1)\n",
    "print(coordinates)\n"
   ]
  },
  {
   "cell_type": "code",
   "execution_count": 9,
   "id": "d5f65de4-4758-438e-956e-c82885998ca6",
   "metadata": {},
   "outputs": [
    {
     "name": "stdout",
     "output_type": "stream",
     "text": [
      "['Shahran, (35.753978, 51.2874715)', 'Pardis, (35.7411286, 51.815509)', 'Shahrake Qods, None', 'Shahrake Gharb, None', 'North Program Organization, None', 'Andisheh, (35.7052413, 51.0296232)', 'West Ferdows Boulevard, None', 'Narmak, (35.7363694, 51.5041892)', 'Saadat Abad, (35.7860955, 51.3781445)', 'Zafar, (35.7668336, 51.4194241)', 'Islamshahr, (35.5478513, 51.2318676)', 'Pirouzi, (35.6909048, 51.4571519)', 'Shahrake Shahid Bagheri, None', 'Moniriyeh, (35.6811307, 51.401641)', 'Velenjak, (35.8066647, 51.4013931)', 'Amirieh, (35.6289081, 51.027627)', 'Southern Janatabad, None', 'Salsabil, (35.6961197, 51.37395)', 'Zargandeh, (35.7732674, 51.4329527)', 'Feiz Garden, None', 'Water Organization, (35.7164354, 51.396155)', 'ShahrAra, (35.717269, 51.3739168)', 'Gisha, (35.7369191, 51.3770576)', 'Ray, (35.5989911, 51.4357865)', 'Abbasabad, (35.5866299, 51.3384738)', 'Ostad Moein, (35.7001565, 51.3447089)', 'Farmanieh, (35.7961378, 51.4710658)', 'Parand, (35.477882, 50.9469189)', 'Punak, (35.7579873, 51.324842)', 'Qasr-od-Dasht, None', 'Aqdasieh, None', 'Pakdasht, (35.4784573, 51.6824624)', 'Railway, None', 'Central Janatabad, None', 'East Ferdows Boulevard, None', 'Pakdasht KhatunAbad, (35.5076412, 51.6680495)', 'Sattarkhan, (35.7246873, 51.3585026)', 'Baghestan, (35.635564, 51.1346204)', 'Shahryar, (35.8019146, 51.4069631)', 'Northern Janatabad, None', 'Daryan No, (35.7146676, 51.3623258)', 'Southern Program Organization, None', 'Rudhen, None', 'West Pars, None', 'Afsarieh, (35.6523159, 51.4930224)', 'Marzdaran, (35.738556, 51.3392797)', 'Dorous, None', 'Sadeghieh, (35.7211465, 51.3451691)', 'Chahardangeh, (35.6067482, 51.3100612)', 'Baqershahr, (35.5338489, 51.4053842)', 'Jeyhoon, None', 'Lavizan, (35.7685251, 51.5235799)', 'Shams Abad, (35.7479947, 51.4770365)', 'Fatemi, (35.7184219, 51.3895614)', 'Keshavarz Boulevard, (35.7077242, 51.3916836)', 'Kahrizak, (35.517323, 51.3618852)', 'Qarchak, (35.4421824, 51.5697005)', 'Northren Jamalzadeh, None', 'Azarbaijan, None', 'Bahar, (35.7102335, 51.4333621)', 'Persian Gulf Martyrs Lake, (35.7451443, 51.2140589)', 'Beryanak, (35.6752015, 51.3769458)', 'Heshmatieh, (35.7264682, 51.4502086)', 'Elm-o-Sanat, (35.7412446, 51.5092195)', 'Golestan, (35.5214193, 51.1767192)', 'Shahr-e-Ziba, (35.7456674, 51.2947466)', 'Pasdaran, (35.7796946, 51.4673395)', 'Chardivari, None', 'Gheitarieh, None', 'Kamranieh, (35.7971068, 51.460495)', 'Gholhak, (35.7728855, 51.4381145)', 'Heravi, (35.772078, 51.4731866)', 'Hashemi, (35.6846963, 51.3593942)', 'Dehkade Olampic, None', 'Damavand, (35.7179802, 52.0681882)', 'Republic, None', 'Zaferanieh, (35.8076813, 51.4163789)', 'Qazvin Imamzadeh Hassan, None', 'Niavaran, (35.8160561, 51.4709472)', 'Valiasr, (35.7079474, 51.4132273)', 'Qalandari, (35.7787437, 51.4422618)', 'Amir Bahador, (35.6711496, 51.4036211)', 'Ekhtiarieh, (35.7863456, 51.4611775)', 'Ekbatan, (35.7069661, 51.3056201)', 'Absard, (35.6231852, 52.1528132)', 'Haft Tir, (35.7159879, 51.4258995)', 'Mahallati, (35.7978034, 51.5081682)', 'Ozgol, (35.7947191, 51.5006754)', 'Tajrish, (35.804937, 51.4409634)', 'Abazar, (35.7308741, 51.3302859)', 'Koohsar, (35.8054997, 51.3763964)', 'Hekmat, (35.8006552, 51.4452029)', 'Parastar, (35.6883581, 51.4837882)', 'Lavasan, (35.8204845, 51.6321444)', 'Majidieh, (35.7357141, 51.4656043)', 'Southern Chitgar, None', 'Karimkhan, (35.7134809, 51.4123789)', 'Si Metri Ji, None', 'Karoon, (35.6869307, 51.3671627)', 'Northern Chitgar, None', 'East Pars, None', 'Kook, (35.7812574, 51.4493246)', 'Air force, (35.7125884, 51.4838998)', 'Sohanak, None', 'Komeil, (35.6805094, 51.3628239)', 'Azadshahr, None', 'Zibadasht, (35.7523909, 51.2613119)', 'Amirabad, (35.6819462, 50.7948472)', 'Dezashib, (35.8091055, 51.4553023)', 'Elahieh, (35.7898612, 51.4262023)', 'Mirdamad, (35.7601006, 51.4339605)', 'Razi, (35.812923, 51.4143711)', 'Jordan, (35.7746178, 51.4215269)', 'Mahmoudieh, None', 'Shahedshahr, (35.5735353, 51.0868332)', 'Yaftabad, (35.6612358, 51.3421551)', 'Mehran, (35.7487797, 51.4565244)', 'Nasim Shahr, (35.5558512, 51.1688909)', 'Tenant, None', 'Chardangeh, None', 'Fallah, (35.7752358, 51.3378822)', 'Eskandari, (35.6886157, 51.3813448)', 'Shahrakeh Naft, None', 'Ajudaniye, (35.8055509, 51.480843)', 'Tehransar, (35.6942692, 51.2558471)', 'Nawab, None', 'Yousef Abad, (35.7346597, 51.4045663)', 'Northern Suhrawardi, None', 'Villa, None', 'Hakimiyeh, None', 'Nezamabad, (35.7184215, 51.4642016)', 'Garden of Saba, None', 'Tarasht, (35.7160834, 51.3435808)', 'Azari, (35.6671035, 51.3507428)', 'Shahrake Apadana, None', 'Araj, (35.795851, 51.4887161)', 'Vahidieh, (35.6062379, 51.0263766)', 'Malard, (35.666763, 50.9790423)', 'Shahrake Azadi, None', 'Darband, (35.8135171, 51.429482)', 'Vanak, (35.764663, 51.4058606)', 'Tehran Now, (35.7177195, 51.3646454)', 'Darabad, (35.861468, 51.4978891)', 'Eram, (35.7290819, 51.2881123)', 'Atabak, (35.6480563, 51.462443)', 'Sabalan, (35.7182413, 51.4645702)', 'SabaShahr, (35.5824779, 51.1130446)', 'Shahrake Madaen, None', 'Waterfall, (35.8958791, 51.2056293)', 'Ahang, (35.6634373, 51.476794)', 'Salehabad, (35.5052878, 51.1915512)', 'Pishva, (35.308412, 51.7189409)', 'Enghelab, (35.7434857, 51.4764541)', 'Islamshahr Elahieh, None', 'Ray - Montazeri, None', 'Firoozkooh Kuhsar, None', 'Ghoba, (35.764634, 51.4511046)', 'Mehrabad, (35.7058305, 51.9134255)', 'Southern Suhrawardi, None', 'Abuzar, (35.6811427, 51.4897808)', 'Dolatabad, None', 'Hor Square, (35.6881807, 51.392845)', 'Taslihat, (35.7195274, 51.4727538)', 'Kazemabad, None', 'Robat Karim, (35.4805558, 51.0781568)', 'Ray - Pilgosh, None', 'Ghiyamdasht, None', 'Telecommunication, (35.7499317, 51.3953108)', 'Mirza Shirazi, (35.7281781, 51.4169344)', 'Gandhi, (35.7519323, 51.4124189)', 'Argentina, None', 'Seyed Khandan, (35.7470497, 51.443004)', 'Shahrake Quds, None', 'Safadasht, (35.692438, 50.8482841)', 'Khademabad Garden, None', 'Hassan Abad, (35.6861227, 51.4101573)', 'Chidz, None', 'Khavaran, (35.6651028, 51.452874)', 'Boloorsazi, None', 'Mehrabad River River, None', 'Varamin - Beheshti, None', 'Shoosh, (35.6572974, 51.4142116)', 'Thirteen November, None', 'Darakeh, (35.8043457, 51.3827097)', 'Aliabad South, None', 'Alborz Complex, (35.6839344, 52.0268206)', 'Firoozkooh, (35.8115692, 51.4157946)', 'Vahidiyeh, None', 'Shadabad, (35.6587311, 51.3160879)', 'Naziabad, None', 'Javadiyeh, (35.6593516, 51.387791)', 'Yakhchiabad, None']\n"
     ]
    }
   ],
   "source": [
    "f = open(r\"C:\\Users\\h.rahnavard\\Documents\\coordinates.csv.txt\")\n",
    "coordinates = []\n",
    "for line in f:\n",
    "    coordinates.append(line.strip())\n",
    "f.close()\n",
    "print(coordinates)\n"
   ]
  },
  {
   "cell_type": "markdown",
   "id": "2f2430ab-19c2-4d03-99e9-3eae69cf0bba",
   "metadata": {},
   "source": [
    "# Checking for places that are not found through Nominatim"
   ]
  },
  {
   "cell_type": "code",
   "execution_count": 10,
   "id": "a45d1c10-dc04-4c2c-bded-253db47fe0b9",
   "metadata": {},
   "outputs": [
    {
     "name": "stdout",
     "output_type": "stream",
     "text": [
      "['Shahrake Qods', 'Shahrake Gharb', 'North Program Organization', 'West Ferdows Boulevard', 'Shahrake Shahid Bagheri', 'Southern Janatabad', 'Feiz Garden', 'Qasr-od-Dasht', 'Aqdasieh', 'Railway', 'Central Janatabad', 'East Ferdows Boulevard', 'Northern Janatabad', 'Southern Program Organization', 'Rudhen', 'West Pars', 'Dorous', 'Jeyhoon', 'Northren Jamalzadeh', 'Azarbaijan', 'Chardivari', 'Gheitarieh', 'Dehkade Olampic', 'Republic', 'Qazvin Imamzadeh Hassan', 'Southern Chitgar', 'Si Metri Ji', 'Northern Chitgar', 'East Pars', 'Sohanak', 'Azadshahr', 'Mahmoudieh', 'Tenant', 'Chardangeh', 'Shahrakeh Naft', 'Nawab', 'Northern Suhrawardi', 'Villa', 'Hakimiyeh', 'Garden of Saba', 'Shahrake Apadana', 'Shahrake Azadi', 'Shahrake Madaen', 'Islamshahr Elahieh', 'Ray - Montazeri', 'Firoozkooh Kuhsar', 'Southern Suhrawardi', 'Dolatabad', 'Kazemabad', 'Ray - Pilgosh', 'Ghiyamdasht', 'Argentina', 'Shahrake Quds', 'Khademabad Garden', 'Chidz', 'Boloorsazi', 'Mehrabad River River', 'Varamin - Beheshti', 'Thirteen November', 'Aliabad South', 'Vahidiyeh', 'Naziabad', 'Yakhchiabad']\n"
     ]
    }
   ],
   "source": [
    "import copy\n",
    "Manual_edit = []\n",
    "checklist = copy.deepcopy(coordinates)\n",
    "for i in checklist:\n",
    "    i = i.split(\",\")\n",
    "    if i[1].strip() == 'None':\n",
    "        Manual_edit.append(i[0])\n",
    "print(Manual_edit)"
   ]
  },
  {
   "cell_type": "markdown",
   "id": "3f2f2822-271f-4130-9e37-becedde365b3",
   "metadata": {},
   "source": [
    "# assigning imaginary coordinates to the not-found places:"
   ]
  },
  {
   "cell_type": "code",
   "execution_count": 11,
   "id": "30a660d9-0cef-4680-9ac4-3930f3758895",
   "metadata": {},
   "outputs": [
    {
     "name": "stdout",
     "output_type": "stream",
     "text": [
      "['Shahran, (35.753978, 51.2874715)', 'Pardis, (35.7411286, 51.815509)', 'Shahrake Qods, (35.7, 51.15)', 'Shahrake Gharb, (35.75, 51.3)', 'North Program Organization, (35.8, 51.4)', 'Andisheh, (35.7052413, 51.0296232)', 'West Ferdows Boulevard, (35.72, 51.28)', 'Narmak, (35.7363694, 51.5041892)', 'Saadat Abad, (35.7860955, 51.3781445)', 'Zafar, (35.7668336, 51.4194241)', 'Islamshahr, (35.5478513, 51.2318676)', 'Pirouzi, (35.6909048, 51.4571519)', 'Shahrake Shahid Bagheri, (35.77, 51.32)', 'Moniriyeh, (35.6811307, 51.401641)', 'Velenjak, (35.8066647, 51.4013931)', 'Amirieh, (35.6289081, 51.027627)', 'Southern Janatabad, (35.68, 51.25)', 'Salsabil, (35.6961197, 51.37395)', 'Zargandeh, (35.7732674, 51.4329527)', 'Feiz Garden, (35.73, 51.2)', 'Water Organization, (35.7164354, 51.396155)', 'ShahrAra, (35.717269, 51.3739168)', 'Gisha, (35.7369191, 51.3770576)', 'Ray, (35.5989911, 51.4357865)', 'Abbasabad, (35.5866299, 51.3384738)', 'Ostad Moein, (35.7001565, 51.3447089)', 'Farmanieh, (35.7961378, 51.4710658)', 'Parand, (35.477882, 50.9469189)', 'Punak, (35.7579873, 51.324842)', 'Qasr-od-Dasht, (35.69, 51.22)', 'Aqdasieh, (35.76, 51.34)', 'Pakdasht, (35.4784573, 51.6824624)', 'Railway, (35.71, 51.18)', 'Central Janatabad, (35.69, 51.24)', 'East Ferdows Boulevard, (35.73, 51.29)', 'Pakdasht KhatunAbad, (35.5076412, 51.6680495)', 'Sattarkhan, (35.7246873, 51.3585026)', 'Baghestan, (35.635564, 51.1346204)', 'Shahryar, (35.8019146, 51.4069631)', 'Northern Janatabad, (35.7, 51.27)', 'Daryan No, (35.7146676, 51.3623258)', 'Southern Program Organization, (35.67, 51.23)', 'Rudhen, (35.79, 51.38)', 'West Pars, (35.74, 51.31)', 'Afsarieh, (35.6523159, 51.4930224)', 'Marzdaran, (35.738556, 51.3392797)', 'Dorous, (35.72, 51.21)', 'Sadeghieh, (35.7211465, 51.3451691)', 'Chahardangeh, (35.6067482, 51.3100612)', 'Baqershahr, (35.5338489, 51.4053842)', 'Jeyhoon, (35.71, 51.26)', 'Lavizan, (35.7685251, 51.5235799)', 'Shams Abad, (35.7479947, 51.4770365)', 'Fatemi, (35.7184219, 51.3895614)', 'Keshavarz Boulevard, (35.7077242, 51.3916836)', 'Kahrizak, (35.517323, 51.3618852)', 'Qarchak, (35.4421824, 51.5697005)', 'Northren Jamalzadeh, (35.78, 51.37)', 'Azarbaijan, (35.69, 51.33)', 'Bahar, (35.7102335, 51.4333621)', 'Persian Gulf Martyrs Lake, (35.7451443, 51.2140589)', 'Beryanak, (35.6752015, 51.3769458)', 'Heshmatieh, (35.7264682, 51.4502086)', 'Elm-o-Sanat, (35.7412446, 51.5092195)', 'Golestan, (35.5214193, 51.1767192)', 'Shahr-e-Ziba, (35.7456674, 51.2947466)', 'Pasdaran, (35.7796946, 51.4673395)', 'Chardivari, (35.705, 51.225)', 'Gheitarieh, (35.76, 51.315)', 'Kamranieh, (35.7971068, 51.460495)', 'Gholhak, (35.7728855, 51.4381145)', 'Heravi, (35.772078, 51.4731866)', 'Hashemi, (35.6846963, 51.3593942)', 'Dehkade Olampic, (35.715, 51.24)', 'Damavand, (35.7179802, 52.0681882)', 'Republic, (35.725, 51.28)', 'Zaferanieh, (35.8076813, 51.4163789)', 'Qazvin Imamzadeh Hassan, (35.695, 51.21)', 'Niavaran, (35.8160561, 51.4709472)', 'Valiasr, (35.7079474, 51.4132273)', 'Qalandari, (35.7787437, 51.4422618)', 'Amir Bahador, (35.6711496, 51.4036211)', 'Ekhtiarieh, (35.7863456, 51.4611775)', 'Ekbatan, (35.7069661, 51.3056201)', 'Absard, (35.6231852, 52.1528132)', 'Haft Tir, (35.7159879, 51.4258995)', 'Mahallati, (35.7978034, 51.5081682)', 'Ozgol, (35.7947191, 51.5006754)', 'Tajrish, (35.804937, 51.4409634)', 'Abazar, (35.7308741, 51.3302859)', 'Koohsar, (35.8054997, 51.3763964)', 'Hekmat, (35.8006552, 51.4452029)', 'Parastar, (35.6883581, 51.4837882)', 'Lavasan, (35.8204845, 51.6321444)', 'Majidieh, (35.7357141, 51.4656043)', 'Southern Chitgar, (35.68, 51.29)', 'Karimkhan, (35.7134809, 51.4123789)', 'Si Metri Ji, (35.75, 51.27)', 'Karoon, (35.6869307, 51.3671627)', 'Northern Chitgar, (35.77, 51.295)', 'East Pars, (35.735, 51.325)', 'Kook, (35.7812574, 51.4493246)', 'Air force, (35.7125884, 51.4838998)', 'Sohanak, (35.71, 51.355)', 'Komeil, (35.6805094, 51.3628239)', 'Azadshahr, (35.7, 51.36)', 'Zibadasht, (35.7523909, 51.2613119)', 'Amirabad, (35.6819462, 50.7948472)', 'Dezashib, (35.8091055, 51.4553023)', 'Elahieh, (35.7898612, 51.4262023)', 'Mirdamad, (35.7601006, 51.4339605)', 'Razi, (35.812923, 51.4143711)', 'Jordan, (35.7746178, 51.4215269)', 'Mahmoudieh, (35.745, 51.33)', 'Shahedshahr, (35.5735353, 51.0868332)', 'Yaftabad, (35.6612358, 51.3421551)', 'Mehran, (35.7487797, 51.4565244)', 'Nasim Shahr, (35.5558512, 51.1688909)', 'Tenant, (35.73, 51.31)', 'Chardangeh, (35.695, 51.275)', 'Fallah, (35.7752358, 51.3378822)', 'Eskandari, (35.6886157, 51.3813448)', 'Shahrakeh Naft, (35.74, 51.29)', 'Ajudaniye, (35.8055509, 51.480843)', 'Tehransar, (35.6942692, 51.2558471)', 'Nawab, (35.71, 51.3)', 'Yousef Abad, (35.7346597, 51.4045663)', 'Northern Suhrawardi, (35.72, 51.32)', 'Villa, (35.7, 51.295)', 'Hakimiyeh, (35.715, 51.31)', 'Nezamabad, (35.7184215, 51.4642016)', 'Garden of Saba, (35.725, 51.335)', 'Tarasht, (35.7160834, 51.3435808)', 'Azari, (35.6671035, 51.3507428)', 'Shahrake Apadana, (35.735, 51.32)', 'Araj, (35.795851, 51.4887161)', 'Vahidieh, (35.6062379, 51.0263766)', 'Malard, (35.666763, 50.9790423)', 'Shahrake Azadi, (35.75, 51.335)', 'Darband, (35.8135171, 51.429482)', 'Vanak, (35.764663, 51.4058606)', 'Tehran Now, (35.7177195, 51.3646454)', 'Darabad, (35.861468, 51.4978891)', 'Eram, (35.7290819, 51.2881123)', 'Atabak, (35.6480563, 51.462443)', 'Sabalan, (35.7182413, 51.4645702)', 'SabaShahr, (35.5824779, 51.1130446)', 'Shahrake Madaen, (35.72, 51.34)', 'Waterfall, (35.8958791, 51.2056293)', 'Ahang, (35.6634373, 51.476794)', 'Salehabad, (35.5052878, 51.1915512)', 'Pishva, (35.308412, 51.7189409)', 'Enghelab, (35.7434857, 51.4764541)', 'Islamshahr Elahieh, (35.69, 51.3)', 'Ray - Montazeri, (35.7, 51.31)', 'Firoozkooh Kuhsar, (35.78, 51.29)', 'Ghoba, (35.764634, 51.4511046)', 'Mehrabad, (35.7058305, 51.9134255)', 'Southern Suhrawardi, (35.67, 51.28)', 'Abuzar, (35.6811427, 51.4897808)', 'Dolatabad, (35.685, 51.265)', 'Hor Square, (35.6881807, 51.392845)', 'Taslihat, (35.7195274, 51.4727538)', 'Kazemabad, (35.7, 51.285)', 'Robat Karim, (35.4805558, 51.0781568)', 'Ray - Pilgosh, (35.705, 51.295)', 'Ghiyamdasht, (35.715, 51.31)', 'Telecommunication, (35.7499317, 51.3953108)', 'Mirza Shirazi, (35.7281781, 51.4169344)', 'Gandhi, (35.7519323, 51.4124189)', 'Argentina, (35.72, 51.32)', 'Seyed Khandan, (35.7470497, 51.443004)', 'Shahrake Quds, (35.73, 51.33)', 'Safadasht, (35.692438, 50.8482841)', 'Khademabad Garden, (35.74, 51.34)', 'Hassan Abad, (35.6861227, 51.4101573)', 'Chidz, (35.75, 51.35)', 'Khavaran, (35.6651028, 51.452874)', 'Boloorsazi, (35.76, 51.36)', 'Mehrabad River River, (35.77, 51.37)', 'Varamin - Beheshti, (35.78, 51.38)', 'Shoosh, (35.6572974, 51.4142116)', 'Thirteen November, (35.79, 51.39)', 'Darakeh, (35.8043457, 51.3827097)', 'Aliabad South, (35.8, 51.4)', 'Alborz Complex, (35.6839344, 52.0268206)', 'Firoozkooh, (35.8115692, 51.4157946)', 'Vahidiyeh, (35.81, 51.41)', 'Shadabad, (35.6587311, 51.3160879)', 'Naziabad, (35.82, 51.42)', 'Javadiyeh, (35.6593516, 51.387791)', 'Yakhchiabad, (35.83, 51.43)']\n"
     ]
    }
   ],
   "source": [
    "imaginary_coords = {\n",
    "    'Shahrake Qods': (35.700, 51.150),\n",
    "    'Shahrake Gharb': (35.750, 51.300),\n",
    "    'North Program Organization': (35.800, 51.400),\n",
    "    'West Ferdows Boulevard': (35.720, 51.280),\n",
    "    'Shahrake Shahid Bagheri': (35.770, 51.320),\n",
    "    'Southern Janatabad': (35.680, 51.250),\n",
    "    'Feiz Garden': (35.730, 51.200),\n",
    "    'Qasr-od-Dasht': (35.690, 51.220),\n",
    "    'Aqdasieh': (35.760, 51.340),\n",
    "    'Railway': (35.710, 51.180),\n",
    "    'Central Janatabad': (35.690, 51.240),\n",
    "    'East Ferdows Boulevard': (35.730, 51.290),\n",
    "    'Northern Janatabad': (35.700, 51.270),\n",
    "    'Southern Program Organization': (35.670, 51.230),\n",
    "    'Rudhen': (35.790, 51.380),\n",
    "    'West Pars': (35.740, 51.310),\n",
    "    'Dorous': (35.720, 51.210),\n",
    "    'Jeyhoon': (35.710, 51.260),\n",
    "    'Northren Jamalzadeh': (35.780, 51.370),\n",
    "    'Azarbaijan': (35.690, 51.330),\n",
    "    'Chardivari': (35.705, 51.225),\n",
    "    'Gheitarieh': (35.760, 51.315),\n",
    "    'Dehkade Olampic': (35.715, 51.240),\n",
    "    'Republic': (35.725, 51.280),\n",
    "    'Qazvin Imamzadeh Hassan': (35.695, 51.210),\n",
    "    'Southern Chitgar': (35.680, 51.290),\n",
    "    'Si Metri Ji': (35.750, 51.270),\n",
    "    'Northern Chitgar': (35.770, 51.295),\n",
    "    'East Pars': (35.735, 51.325),\n",
    "    'Sohanak': (35.710, 51.355),\n",
    "    'Azadshahr': (35.700, 51.360),\n",
    "    'Mahmoudieh': (35.745, 51.330),\n",
    "    'Tenant': (35.730, 51.310),\n",
    "    'Chardangeh': (35.695, 51.275),\n",
    "    'Shahrakeh Naft': (35.740, 51.290),\n",
    "    'Nawab': (35.710, 51.300),\n",
    "    'Northern Suhrawardi': (35.720, 51.320),\n",
    "    'Villa': (35.700, 51.295),\n",
    "    'Hakimiyeh': (35.715, 51.310),\n",
    "    'Garden of Saba': (35.725, 51.335),\n",
    "    'Shahrake Apadana': (35.735, 51.320),\n",
    "    'Shahrake Azadi': (35.750, 51.335),\n",
    "    'Shahrake Madaen': (35.720, 51.340),\n",
    "    'Islamshahr Elahieh': (35.690, 51.300),\n",
    "    'Ray - Montazeri': (35.700, 51.310),\n",
    "    'Firoozkooh Kuhsar': (35.780, 51.290),\n",
    "    'Southern Suhrawardi': (35.670, 51.280),\n",
    "    'Dolatabad': (35.685, 51.265),\n",
    "    'Kazemabad': (35.700, 51.285),\n",
    "    'Ray - Pilgosh': (35.705, 51.295),\n",
    "    'Ghiyamdasht': (35.715, 51.310),\n",
    "    'Argentina': (35.720, 51.320),\n",
    "    'Shahrake Quds': (35.730, 51.330),\n",
    "    'Khademabad Garden': (35.740, 51.340),\n",
    "    'Chidz': (35.750, 51.350),\n",
    "    'Boloorsazi': (35.760, 51.360),\n",
    "    'Mehrabad River River': (35.770, 51.370),\n",
    "    'Varamin - Beheshti': (35.780, 51.380),\n",
    "    'Thirteen November': (35.790, 51.390),\n",
    "    'Aliabad South': (35.800, 51.400),\n",
    "    'Vahidiyeh': (35.810, 51.410),\n",
    "    'Naziabad': (35.820, 51.420),\n",
    "    'Yakhchiabad': (35.830, 51.430),\n",
    "}\n",
    "for index, value in enumerate(coordinates):\n",
    "    value = value.split(\",\")\n",
    "    place = value[0].strip()\n",
    "    coord = value[1].strip()\n",
    "    if coord == 'None':\n",
    "        imaginary_coord = imaginary_coords[place]\n",
    "        coordinates[index] = f\"{place}, {imaginary_coord}\"\n",
    "print(coordinates)"
   ]
  },
  {
   "cell_type": "markdown",
   "id": "fde9f917-9fac-4d02-8ae5-a5254c17d6b3",
   "metadata": {},
   "source": [
    "# Assinging a coordinate to uptown"
   ]
  },
  {
   "cell_type": "code",
   "execution_count": 12,
   "id": "8e68e086-f4a6-4c35-9254-cd4296f8569d",
   "metadata": {},
   "outputs": [
    {
     "name": "stdout",
     "output_type": "stream",
     "text": [
      "(35.8160561, 51.4709472)\n"
     ]
    }
   ],
   "source": [
    "from geopy.geocoders import Nominatim\n",
    "from geopy.exc import GeocoderTimedOut\n",
    "geolocator = Nominatim(user_agent='me')\n",
    "\n",
    "def get_coords(place):\n",
    "    location = geolocator.geocode(f\"{place}, Tehran, Iran\")\n",
    "    if location:\n",
    "        return (location.latitude, location.longitude)\n",
    "    else:\n",
    "        return None\n",
    "\n",
    "uptown = get_coords(\"Niavaran\")\n",
    "print(uptown)\n"
   ]
  },
  {
   "cell_type": "markdown",
   "id": "7cd5afc5-3b65-46db-ba19-e390a0feb2ce",
   "metadata": {},
   "source": [
    "# Calculating the distance between each coordinate and uptown:"
   ]
  },
  {
   "cell_type": "code",
   "execution_count": 13,
   "id": "5464498f-cf33-4b06-b350-b98b5cf6e8e2",
   "metadata": {},
   "outputs": [
    {
     "name": "stdout",
     "output_type": "stream",
     "text": [
      "{'Shahran': 17, 'Pardis': 32, 'Shahrake Qods': 31, 'Shahrake Gharb': 17, 'North Program Organization': 6, 'Andisheh': 41, 'West Ferdows Boulevard': 20, 'Narmak': 9, 'Saadat Abad': 9, 'Zafar': 7, 'Islamshahr': 36, 'Pirouzi': 13, 'Shahrake Shahid Bagheri': 14, 'Moniriyeh': 16, 'Velenjak': 6, 'Amirieh': 45, 'Southern Janatabad': 25, 'Salsabil': 15, 'Zargandeh': 5, 'Feiz Garden': 26, 'Water Organization': 12, 'ShahrAra': 14, 'Gisha': 12, 'Ray': 24, 'Abbasabad': 28, 'Ostad Moein': 17, 'Farmanieh': 2, 'Parand': 60, 'Punak': 14, 'Qasr-od-Dasht': 26, 'Aqdasieh': 13, 'Pakdasht': 42, 'Railway': 28, 'Central Janatabad': 25, 'East Ferdows Boulevard': 18, 'Pakdasht KhatunAbad': 38, 'Sattarkhan': 14, 'Baghestan': 36, 'Shahryar': 5, 'Northern Janatabad': 22, 'Daryan No': 14, 'Southern Program Organization': 27, 'Rudhen': 8, 'West Pars': 16, 'Afsarieh': 18, 'Marzdaran': 14, 'Dorous': 25, 'Sadeghieh': 15, 'Chahardangeh': 27, 'Baqershahr': 31, 'Jeyhoon': 22, 'Lavizan': 7, 'Shams Abad': 7, 'Fatemi': 13, 'Keshavarz Boulevard': 13, 'Kahrizak': 34, 'Qarchak': 42, 'Northren Jamalzadeh': 9, 'Azarbaijan': 18, 'Bahar': 12, 'Persian Gulf Martyrs Lake': 24, 'Beryanak': 17, 'Heshmatieh': 10, 'Elm-o-Sanat': 8, 'Golestan': 42, 'Shahr-e-Ziba': 17, 'Pasdaran': 4, 'Chardivari': 25, 'Gheitarieh': 15, 'Kamranieh': 2, 'Gholhak': 5, 'Heravi': 4, 'Hashemi': 17, 'Dehkade Olampic': 23, 'Damavand': 55, 'Republic': 20, 'Zaferanieh': 5, 'Qazvin Imamzadeh Hassan': 27, 'Niavaran': 0, 'Valiasr': 13, 'Qalandari': 4, 'Amir Bahador': 17, 'Ekhtiarieh': 3, 'Ekbatan': 19, 'Absard': 65, 'Haft Tir': 11, 'Mahallati': 3, 'Ozgol': 3, 'Tajrish': 2, 'Abazar': 15, 'Koohsar': 8, 'Hekmat': 2, 'Parastar': 14, 'Lavasan': 14, 'Majidieh': 8, 'Southern Chitgar': 22, 'Karimkhan': 12, 'Si Metri Ji': 19, 'Karoon': 17, 'Northern Chitgar': 16, 'East Pars': 15, 'Kook': 4, 'Air force': 11, 'Sohanak': 15, 'Komeil': 17, 'Azadshahr': 16, 'Zibadasht': 20, 'Amirabad': 62, 'Dezashib': 1, 'Elahieh': 4, 'Mirdamad': 7, 'Razi': 5, 'Jordan': 6, 'Mahmoudieh': 14, 'Shahedshahr': 43, 'Yaftabad': 20, 'Mehran': 7, 'Nasim Shahr': 39, 'Tenant': 17, 'Chardangeh': 22, 'Fallah': 12, 'Eskandari': 16, 'Shahrakeh Naft': 18, 'Ajudaniye': 1, 'Tehransar': 23, 'Nawab': 19, 'Yousef Abad': 10, 'Northern Suhrawardi': 17, 'Villa': 20, 'Hakimiyeh': 18, 'Nezamabad': 10, 'Garden of Saba': 15, 'Tarasht': 15, 'Azari': 19, 'Shahrake Apadana': 16, 'Araj': 2, 'Vahidieh': 46, 'Malard': 47, 'Shahrake Azadi': 14, 'Darband': 3, 'Vanak': 8, 'Tehran Now': 14, 'Darabad': 5, 'Eram': 19, 'Atabak': 18, 'Sabalan': 10, 'SabaShahr': 41, 'Shahrake Madaen': 15, 'Waterfall': 25, 'Ahang': 16, 'Salehabad': 42, 'Pishva': 60, 'Enghelab': 8, 'Islamshahr Elahieh': 20, 'Ray - Montazeri': 19, 'Firoozkooh Kuhsar': 16, 'Ghoba': 5, 'Mehrabad': 41, 'Southern Suhrawardi': 23, 'Abuzar': 15, 'Dolatabad': 23, 'Hor Square': 15, 'Taslihat': 10, 'Kazemabad': 21, 'Robat Karim': 51, 'Ray - Pilgosh': 20, 'Ghiyamdasht': 18, 'Telecommunication': 10, 'Mirza Shirazi': 10, 'Gandhi': 8, 'Argentina': 17, 'Seyed Khandan': 8, 'Shahrake Quds': 15, 'Safadasht': 57, 'Khademabad Garden': 14, 'Hassan Abad': 15, 'Chidz': 13, 'Khavaran': 16, 'Boloorsazi': 11, 'Mehrabad River River': 10, 'Varamin - Beheshti': 9, 'Shoosh': 18, 'Thirteen November': 7, 'Darakeh': 8, 'Aliabad South': 6, 'Alborz Complex': 52, 'Firoozkooh': 5, 'Vahidiyeh': 5, 'Shadabad': 22, 'Naziabad': 4, 'Javadiyeh': 18, 'Yakhchiabad': 4}\n"
     ]
    }
   ],
   "source": [
    "dists = {}\n",
    "from geopy.distance import distance\n",
    "for index, value in enumerate(coordinates):\n",
    "    value = value.split(\",\", 1)\n",
    "    place = value[0].strip()\n",
    "    coord_str = value[1].strip().strip('()')\n",
    "    coord_str = coord_str.split(\",\")\n",
    "    lan, lon = coord_str[0].strip(), coord_str[1].strip()\n",
    "    coord = (float(lan), float(lon))\n",
    "    dist = distance(uptown, coord).km\n",
    "    dists[place] = int(dist)\n",
    "print(dists)"
   ]
  },
  {
   "cell_type": "markdown",
   "id": "f606dd2e-169d-4832-8625-3c61f14cac86",
   "metadata": {},
   "source": [
    "# Replacing all addresses with numerical data showing their distance from uptown"
   ]
  },
  {
   "cell_type": "code",
   "execution_count": 14,
   "id": "cf4795e4-47d9-4d58-a0db-cee6ee84c675",
   "metadata": {},
   "outputs": [
    {
     "name": "stdout",
     "output_type": "stream",
     "text": [
      "0       17\n",
      "1       17\n",
      "2       32\n",
      "3       31\n",
      "4       17\n",
      "        ..\n",
      "3442    25\n",
      "3443     0\n",
      "3444    60\n",
      "3445    25\n",
      "3446    60\n",
      "Name: Address, Length: 3447, dtype: object\n"
     ]
    }
   ],
   "source": [
    "for i in range(len(df)):\n",
    "    for place in dists:\n",
    "        if df.loc[i,\"Address\"] == place:\n",
    "            df.loc[i,\"Address\"] = dists[place]\n",
    "print(df[\"Address\"])"
   ]
  },
  {
   "cell_type": "markdown",
   "id": "0a2eb26e-604a-40a8-8a5f-d2be2131b8cf",
   "metadata": {},
   "source": [
    "# Drawing a correlation map.Judging my this heatmap, the most important factors are area, room, and address. The effect of other factors is weak to negligble"
   ]
  },
  {
   "cell_type": "code",
   "execution_count": 15,
   "id": "94b43590-1db5-436d-b410-3362ffc5ff4f",
   "metadata": {},
   "outputs": [
    {
     "data": {
      "image/png": "[encoded data removed]",
      "text/plain": [
       "<Figure size 1200x1000 with 2 Axes>"
      ]
     },
     "metadata": {},
     "output_type": "display_data"
    }
   ],
   "source": [
    "import seaborn as sns\n",
    "plt.figure(figsize=(12, 10))\n",
    "sns.heatmap(df.corr(), annot=True, cmap='coolwarm')\n",
    "plt.title(\"Correlation Heatmap\")\n",
    "plt.show()"
   ]
  },
  {
   "cell_type": "code",
   "execution_count": 17,
   "id": "e2e91ed6-a3f4-4365-9be4-2ebcad2dd6ff",
   "metadata": {},
   "outputs": [
    {
     "data": {
      "text/html": [
       "<div>\n",
       "<style scoped>\n",
       "    .dataframe tbody tr th:only-of-type {\n",
       "        vertical-align: middle;\n",
       "    }\n",
       "\n",
       "    .dataframe tbody tr th {\n",
       "        vertical-align: top;\n",
       "    }\n",
       "\n",
       "    .dataframe thead th {\n",
       "        text-align: right;\n",
       "    }\n",
       "</style>\n",
       "<table border=\"1\" class=\"dataframe\">\n",
       "  <thead>\n",
       "    <tr style=\"text-align: right;\">\n",
       "      <th></th>\n",
       "      <th>Area</th>\n",
       "      <th>Room</th>\n",
       "      <th>Price</th>\n",
       "    </tr>\n",
       "  </thead>\n",
       "  <tbody>\n",
       "    <tr>\n",
       "      <th>count</th>\n",
       "      <td>3447.000000</td>\n",
       "      <td>3447.000000</td>\n",
       "      <td>3.447000e+03</td>\n",
       "    </tr>\n",
       "    <tr>\n",
       "      <th>mean</th>\n",
       "      <td>106.229475</td>\n",
       "      <td>2.080070</td>\n",
       "      <td>5.352295e+09</td>\n",
       "    </tr>\n",
       "    <tr>\n",
       "      <th>std</th>\n",
       "      <td>65.548021</td>\n",
       "      <td>0.758756</td>\n",
       "      <td>8.029127e+09</td>\n",
       "    </tr>\n",
       "    <tr>\n",
       "      <th>min</th>\n",
       "      <td>30.000000</td>\n",
       "      <td>0.000000</td>\n",
       "      <td>3.600000e+06</td>\n",
       "    </tr>\n",
       "    <tr>\n",
       "      <th>25%</th>\n",
       "      <td>69.000000</td>\n",
       "      <td>2.000000</td>\n",
       "      <td>1.418250e+09</td>\n",
       "    </tr>\n",
       "    <tr>\n",
       "      <th>50%</th>\n",
       "      <td>90.000000</td>\n",
       "      <td>2.000000</td>\n",
       "      <td>2.900000e+09</td>\n",
       "    </tr>\n",
       "    <tr>\n",
       "      <th>75%</th>\n",
       "      <td>120.000000</td>\n",
       "      <td>2.000000</td>\n",
       "      <td>6.000000e+09</td>\n",
       "    </tr>\n",
       "    <tr>\n",
       "      <th>max</th>\n",
       "      <td>750.000000</td>\n",
       "      <td>5.000000</td>\n",
       "      <td>9.240000e+10</td>\n",
       "    </tr>\n",
       "  </tbody>\n",
       "</table>\n",
       "</div>"
      ],
      "text/plain": [
       "              Area         Room         Price\n",
       "count  3447.000000  3447.000000  3.447000e+03\n",
       "mean    106.229475     2.080070  5.352295e+09\n",
       "std      65.548021     0.758756  8.029127e+09\n",
       "min      30.000000     0.000000  3.600000e+06\n",
       "25%      69.000000     2.000000  1.418250e+09\n",
       "50%      90.000000     2.000000  2.900000e+09\n",
       "75%     120.000000     2.000000  6.000000e+09\n",
       "max     750.000000     5.000000  9.240000e+10"
      ]
     },
     "execution_count": 17,
     "metadata": {},
     "output_type": "execute_result"
    }
   ],
   "source": [
    "cdf = df[[\"Area\", \"Address\", \"Room\", \"Price\"]]\n",
    "cdf.describe()"
   ]
  },
  {
   "cell_type": "markdown",
   "id": "63c49dd9-24dc-406b-8475-3b020e4eb427",
   "metadata": {},
   "source": [
    "# Drawing some rudimentary graphs"
   ]
  },
  {
   "cell_type": "code",
   "execution_count": 18,
   "id": "02a7d3fb-bc1c-48c2-9870-f732d9b3ba75",
   "metadata": {},
   "outputs": [
    {
     "data": {
      "text/plain": [
       "Text(0.5, 0, 'Area')"
      ]
     },
     "execution_count": 18,
     "metadata": {},
     "output_type": "execute_result"
    },
    {
     "data": {
      "image/png": "[encoded data removed]",
      "text/plain": [
       "<Figure size 640x480 with 1 Axes>"
      ]
     },
     "metadata": {},
     "output_type": "display_data"
    }
   ],
   "source": [
    "plt.scatter(cdf[\"Area\"], cdf[\"Price\"], color='black')\n",
    "plt.ylabel(\"Price\")\n",
    "plt.xlabel(\"Area\")"
   ]
  },
  {
   "cell_type": "code",
   "execution_count": 19,
   "id": "6c21e554-8d0a-45a2-a90a-62c0e0f972a2",
   "metadata": {},
   "outputs": [
    {
     "data": {
      "text/plain": [
       "Text(0.5, 0, 'Room')"
      ]
     },
     "execution_count": 19,
     "metadata": {},
     "output_type": "execute_result"
    },
    {
     "data": {
      "image/png": "[encoded data removed]",
      "text/plain": [
       "<Figure size 640x480 with 1 Axes>"
      ]
     },
     "metadata": {},
     "output_type": "display_data"
    }
   ],
   "source": [
    "plt.scatter(cdf[\"Room\"], cdf[\"Price\"], color='orange')\n",
    "plt.ylabel(\"Price\")\n",
    "plt.xlabel(\"Room\")"
   ]
  },
  {
   "cell_type": "code",
   "execution_count": 20,
   "id": "4af10e54-c24c-4998-852c-c84fad93b6e7",
   "metadata": {},
   "outputs": [
    {
     "data": {
      "text/plain": [
       "Text(0.5, 0, 'Address')"
      ]
     },
     "execution_count": 20,
     "metadata": {},
     "output_type": "execute_result"
    },
    {
     "data": {
      "image/png": "[encoded data removed]",
      "text/plain": [
       "<Figure size 640x480 with 1 Axes>"
      ]
     },
     "metadata": {},
     "output_type": "display_data"
    }
   ],
   "source": [
    "plt.scatter(cdf[\"Address\"], cdf[\"Price\"], color='purple')\n",
    "plt.ylabel(\"Price\")\n",
    "plt.xlabel(\"Address\")"
   ]
  },
  {
   "cell_type": "markdown",
   "id": "980c92be-4288-42e2-b8b8-691e29b0429e",
   "metadata": {},
   "source": [
    "# Splittint the data"
   ]
  },
  {
   "cell_type": "code",
   "execution_count": 21,
   "id": "1bafde9a-f0d2-4cea-bcfa-24867f8c368f",
   "metadata": {},
   "outputs": [],
   "source": [
    "msk = np.random.rand(len(cdf)) < 0.8\n",
    "train = cdf[msk]\n",
    "test = cdf[~msk]"
   ]
  },
  {
   "cell_type": "markdown",
   "id": "102c1620-57b6-46c7-a80f-0086304ec585",
   "metadata": {},
   "source": [
    "# Getting into the regression model"
   ]
  },
  {
   "cell_type": "code",
   "execution_count": 22,
   "id": "e3696ccc-bd80-4b4c-9f7c-187af4390e8c",
   "metadata": {},
   "outputs": [
    {
     "name": "stdout",
     "output_type": "stream",
     "text": [
      "the coefficient for Area is: 76792538.86523885\n",
      "the coefficient for Rooms is: 644033511.4714849\n",
      "the coefficient for Address is: -165548941.11040246\n",
      "intercept is -928219172.6649799\n",
      "Price = -928219172.66 + (76792538.87 * Area) + (644033511.47 * Room) + (-165548941.11 * Address)\n"
     ]
    }
   ],
   "source": [
    "x_train = np.asarray(train[[\"Area\", \"Room\", \"Address\"]])\n",
    "y_train = np.asarray(train[\"Price\"])\n",
    "model = LinearRegression()\n",
    "model.fit(x_train, y_train)\n",
    "y_pred = model.predict(x_train)\n",
    "coefficients = model.coef_\n",
    "print(f\"the coefficient for Area is: {coefficients[0]}\")\n",
    "print(f\"the coefficient for Rooms is: {coefficients[1]}\")\n",
    "print(f\"the coefficient for Address is: {coefficients[2]}\")\n",
    "intercept = model.intercept_\n",
    "print(f\"intercept is {intercept}\")\n",
    "features = train[[\"Area\", \"Room\", \"Address\"]].columns\n",
    "equation = f\"Price = {intercept:.2f}\"\n",
    "for coef, feature in zip(coefficients, features):\n",
    "    equation += f\" + ({coef:.2f} * {feature})\"\n",
    "\n",
    "print(equation)"
   ]
  },
  {
   "cell_type": "markdown",
   "id": "5322daa8-3797-4f65-8aeb-8015fa1521e8",
   "metadata": {},
   "source": [
    "# We see that the coefficients are huge numbers, so it may help to normalize our data"
   ]
  },
  {
   "cell_type": "code",
   "execution_count": 23,
   "id": "09f75676-f67f-4819-a539-49de3c8e65e4",
   "metadata": {},
   "outputs": [
    {
     "name": "stdout",
     "output_type": "stream",
     "text": [
      "the coefficient for Area is: 0.642481007040987\n",
      "the coefficient for Rooms is: 0.06299614446189908\n",
      "the coefficient for Address is: -0.28205198869768355\n",
      "intercept is 1.2349911632591552e-18\n",
      "Price = 0.00 + (0.64 * Area) + (0.06 * Room) + (-0.28 * Address)\n"
     ]
    }
   ],
   "source": [
    "from sklearn.preprocessing import StandardScaler\n",
    "scaler_x = StandardScaler()\n",
    "scaler_y = StandardScaler()\n",
    "x_train_scaled = scaler_x.fit_transform(x_train)\n",
    "y_train_scaled = scaler_y.fit_transform(y_train.reshape(-1,1))\n",
    "model = LinearRegression()\n",
    "model.fit(x_train_scaled, y_train_scaled)\n",
    "y_pred = model.predict(x_train_scaled)\n",
    "coefficients = model.coef_.flatten()\n",
    "print(f\"the coefficient for Area is: {coefficients[0]}\")\n",
    "print(f\"the coefficient for Rooms is: {coefficients[1]}\")\n",
    "print(f\"the coefficient for Address is: {coefficients[2]}\")\n",
    "intercept = model.intercept_[0]\n",
    "print(f\"intercept is {intercept}\")\n",
    "features = train[[\"Area\", \"Room\", \"Address\"]].columns\n",
    "equation = f\"Price = {intercept:.2f}\"\n",
    "for coef, feature in zip(coefficients, features):\n",
    "    equation += f\" + ({coef:.2f} * {feature})\"\n",
    "\n",
    "print(equation)\n"
   ]
  },
  {
   "cell_type": "markdown",
   "id": "dff01968-7c00-4e6d-902f-f00ea84b4364",
   "metadata": {},
   "source": [
    "# Running a comparison between train predictions and true values in the training data set"
   ]
  },
  {
   "cell_type": "code",
   "execution_count": 24,
   "id": "fcb7c825-821f-4c8f-bfc8-6540982e3e94",
   "metadata": {},
   "outputs": [
    {
     "name": "stdout",
     "output_type": "stream",
     "text": [
      "True: -0.44346597538178045, Predicted: [-0.45767257]\n",
      "True: -0.44346597538178045, Predicted: [-0.48726792]\n",
      "True: -0.6104698420786538, Predicted: [-0.53610272]\n",
      "True: -0.5651861013012324, Predicted: [-0.3569937]\n",
      "True: -0.6040466164364664, Predicted: [-0.4571818]\n",
      "True: -0.4049266215286558, Predicted: [-0.49713304]\n",
      "True: -0.6177923193107475, Predicted: [-0.9741351]\n",
      "True: -0.3766644287030311, Predicted: [-0.44255314]\n",
      "True: -0.36638726767553115, Predicted: [-0.38941303]\n",
      "True: 0.7319843171385211, Predicted: [0.59808912]\n"
     ]
    }
   ],
   "source": [
    "for i in range(10):\n",
    "    print(f\"True: {y_train_scaled.flatten()[i]}, Predicted: {y_pred[i]}\")\n"
   ]
  },
  {
   "cell_type": "markdown",
   "id": "b77d1fac-064b-47ca-ab8d-855625fca21b",
   "metadata": {},
   "source": [
    "# Running the model on test data set and comparing predictions with true values:"
   ]
  },
  {
   "cell_type": "code",
   "execution_count": 25,
   "id": "525bd9fb-9cd0-4b4e-9a16-65fd86af3da7",
   "metadata": {},
   "outputs": [
    {
     "name": "stdout",
     "output_type": "stream",
     "text": [
      "True: 0.16279491107763083, Predicted: [0.21708125]\n",
      "True: -0.39248005801985264, Predicted: [-0.18236099]\n",
      "True: -0.38687121994816087, Predicted: [-0.31878684]\n",
      "True: -0.43286369213603326, Predicted: [-0.42836951]\n",
      "True: 0.1291418826474803, Predicted: [0.72085201]\n",
      "True: -0.4115501074636046, Predicted: [-0.43971651]\n",
      "True: -0.4237773744598926, Predicted: [-0.74860683]\n",
      "True: -0.3812623818764691, Predicted: [-0.59875716]\n",
      "True: -0.20177956358233307, Predicted: [0.0251658]\n",
      "True: -0.24104143008417533, Predicted: [-0.38453645]\n"
     ]
    }
   ],
   "source": [
    "x_test = np.asarray(test[[\"Area\", \"Room\", \"Address\"]])\n",
    "y_test = np.asarray(test[\"Price\"])\n",
    "x_test_scaled = scaler_x.fit_transform(x_test)\n",
    "y_test_scaled = scaler_y.fit_transform(y_test.reshape(-1,1))\n",
    "model.fit(x_test_scaled, y_test_scaled)\n",
    "y_test_pred = model.predict(x_test_scaled)\n",
    "for i in range(10):\n",
    "    print(f\"True: {y_test_scaled.flatten()[i]}, Predicted: {y_test_pred[i]}\")"
   ]
  },
  {
   "cell_type": "markdown",
   "id": "dbe862fe-97c7-4698-bd9b-152f40ab8345",
   "metadata": {},
   "source": [
    "# Calculating different evaluation metrics:"
   ]
  },
  {
   "cell_type": "code",
   "execution_count": 26,
   "id": "ad747e1e-4af1-4130-8c63-7c2c956bd688",
   "metadata": {},
   "outputs": [
    {
     "name": "stdout",
     "output_type": "stream",
     "text": [
      "R2 Score: 0.670323586251018\n",
      "mse: 0.32967641374898204\n",
      "mae: 0.285762435810768\n"
     ]
    }
   ],
   "source": [
    "from sklearn.metrics import r2_score\n",
    "from sklearn.metrics import mean_squared_error, mean_absolute_error\n",
    "r2 = r2_score(y_test_scaled, y_test_pred)\n",
    "mse = mean_squared_error(y_test_scaled, y_test_pred)\n",
    "mae = mean_absolute_error(y_test_scaled, y_test_pred)\n",
    "print(f\"R2 Score: {r2}\")\n",
    "print(f\"mse: {mse}\")\n",
    "print(f\"mae: {mae}\")"
   ]
  }
 ],
 "metadata": {
  "kernelspec": {
   "display_name": "Python 3 (ipykernel)",
   "language": "python",
   "name": "python3"
  },
  "language_info": {
   "codemirror_mode": {
    "name": "ipython",
    "version": 3
   },
   "file_extension": ".py",
   "mimetype": "text/x-python",
   "name": "python",
   "nbconvert_exporter": "python",
   "pygments_lexer": "ipython3",
   "version": "3.13.3"
  }
 },
 "nbformat": 4,
 "nbformat_minor": 5
}
